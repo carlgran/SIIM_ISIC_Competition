{
 "cells": [
  {
   "cell_type": "code",
   "execution_count": 24,
   "metadata": {},
   "outputs": [],
   "source": [
    "import numpy as np, pandas as pd, os\n",
    "import matplotlib.pyplot as plt, cv2\n",
    "from sklearn.impute import SimpleImputer\n",
    "from sklearn.preprocessing import LabelEncoder, StandardScaler, OneHotEncoder \n",
    "import tensorflow as tf, re, math\n",
    "import random,time"
   ]
  },
  {
   "cell_type": "code",
   "execution_count": 31,
   "metadata": {},
   "outputs": [
    {
     "data": {
      "text/plain": [
       "((44108, 23), (33126, 25), (10982, 22))"
      ]
     },
     "execution_count": 31,
     "metadata": {},
     "output_type": "execute_result"
    }
   ],
   "source": [
    "meta_train = pd.read_csv('train.csv')\n",
    "meta_test =pd.read_csv('test.csv')\n",
    "sample_sub = pd.read_csv('sample_submission.csv')\n",
    "\n",
    "img_feat_train = pd.read_csv('train_df.csv')\n",
    "img_feat_test = pd.read_csv('test_df.csv')\n",
    "\n",
    "merge_train = meta_train.merge(img_feat_train, on = ['image_name','target'])\n",
    "merge_test = meta_test.merge(img_feat_test, on = ['image_name'])\n",
    "\n",
    "y = merge_train.target\n",
    "\n",
    "# COMBINE TRAIN AND TEST TO ENCODE TOGETHER\n",
    "cols = merge_test.columns\n",
    "comb = pd.concat([merge_train[cols],merge_test[cols]],ignore_index=True,axis=0).reset_index(drop=True)\n",
    "\n",
    "# LABEL ENCODE ALL STRINGS\n",
    "\n",
    "comb['freq'] = comb.groupby('patient_id')['patient_id'].transform('count')\n",
    "cols = comb.columns\n",
    "comb.shape, merge_train.shape, merge_test.shape"
   ]
  },
  {
   "cell_type": "code",
   "execution_count": 54,
   "metadata": {},
   "outputs": [
    {
     "name": "stdout",
     "output_type": "stream",
     "text": [
      "check: patient_id\n",
      "check: sex\n",
      "check: anatom_site_general_challenge\n"
     ]
    },
    {
     "data": {
      "text/plain": [
       "10977    0.467171\n",
       "10978   -1.028875\n",
       "10979    1.179574\n",
       "10980   -0.601434\n",
       "10981    1.891977\n",
       "Name: freq, dtype: float64"
      ]
     },
     "execution_count": 54,
     "metadata": {},
     "output_type": "execute_result"
    }
   ],
   "source": [
    "cats = ['patient_id','sex','anatom_site_general_challenge'] \n",
    "for c in cats:\n",
    "    comb[c],mp = comb[c].factorize()\n",
    "    #comb[c] = l_encode.fit_transform(comb[c].astype(str))\n",
    "    print('check:' , c)\n",
    "    \n",
    "comb[cols[1:]] = comb[cols[1:]].replace(np.inf, np.nan)\n",
    "scalar = StandardScaler().fit(comb[cols[1:]])\n",
    "comb[cols[1:]]=pd.DataFrame(scalar.transform(comb[cols[1:]]))\n",
    "\n",
    "# REWRITE DATA TO DATAFRAMES\n",
    "merge_train[cols[:-1]] = comb.loc[:merge_train.shape[0]-1,cols[:-1]].values\n",
    "merge_test[cols[:-1]] = comb.loc[merge_train.shape[0]:,cols[:-1]].values\n",
    "merge_train['freq'] = comb['freq'][:merge_train.shape[0]-1]\n",
    "merge_test['freq'] = comb['freq'][:-merge_train.shape[0]]\n",
    "\n",
    "merge_test = merge_test.replace(np.inf, np.nan)\n",
    "for col in cols[1:]:\n",
    "     merge_test[col].fillna(merge_test[col].mean(),inplace=True)\n",
    "merge_test.freq.tail()"
   ]
  },
  {
   "cell_type": "code",
   "execution_count": 39,
   "metadata": {},
   "outputs": [],
   "source": [
    "from sklearn.linear_model import LogisticRegression\n",
    "from sklearn.model_selection import train_test_split\n",
    "from sklearn.metrics import f1_score, roc_curve, auc\n",
    "\n",
    "X = merge_train[cols].copy()\n",
    "\n",
    "X.drop([\"image_name\"], axis=1, inplace=True)\n",
    "\n",
    "X.drop([\"patient_id\"], axis=1, inplace=True)"
   ]
  },
  {
   "cell_type": "code",
   "execution_count": 40,
   "metadata": {},
   "outputs": [
    {
     "name": "stderr",
     "output_type": "stream",
     "text": [
      "/Users/carlosgranados/anaconda3/lib/python3.7/site-packages/pandas/core/generic.py:6244: SettingWithCopyWarning: \n",
      "A value is trying to be set on a copy of a slice from a DataFrame\n",
      "\n",
      "See the caveats in the documentation: https://pandas.pydata.org/pandas-docs/stable/user_guide/indexing.html#returning-a-view-versus-a-copy\n",
      "  self._update_inplace(new_data)\n"
     ]
    }
   ],
   "source": [
    "X = X.replace(np.inf, np.nan)\n",
    "\n",
    "X.replace(np.inf, np.nan)\n",
    "\n",
    "# Train-validation split\n",
    "\n",
    "X_train, X_val, y_train, y_val = train_test_split(X, y, train_size=0.8, test_size=0.2, random_state=0)\n",
    "\n",
    "for col in cols[2:]:\n",
    "    X_train[col].fillna(X_train[col].mean(),inplace=True)\n",
    "    X_val[col].fillna(X_val[col].mean(),inplace=True)\n",
    "\n",
    "clf = LogisticRegression(random_state=1, max_iter = 1000).fit(X_train, y_train)\n",
    "\n",
    "# Predict probability target\n",
    "y_pred_p = clf.predict_proba(X_val)"
   ]
  },
  {
   "cell_type": "code",
   "execution_count": 41,
   "metadata": {},
   "outputs": [
    {
     "name": "stdout",
     "output_type": "stream",
     "text": [
      "AUC:0.81228\n"
     ]
    },
    {
     "data": {
      "image/png": "[encoded data removed]",
      "text/plain": [
       "<Figure size 432x288 with 1 Axes>"
      ]
     },
     "metadata": {
      "needs_background": "light"
     },
     "output_type": "display_data"
    }
   ],
   "source": [
    "y_pred_p[:,1]\n",
    "fpr, tpr, thresholds = roc_curve(y_val, y_pred_p[:,1], pos_label=None)\n",
    "plt.scatter(fpr,tpr)\n",
    "plt.xlabel('false positives rate')\n",
    "plt.ylabel('true positives rate')\n",
    "plt.plot(fpr,fpr)\n",
    "print('AUC:%s'%np.round(auc(fpr, tpr),5))"
   ]
  },
  {
   "cell_type": "code",
   "execution_count": 60,
   "metadata": {},
   "outputs": [
    {
     "name": "stdout",
     "output_type": "stream",
     "text": [
      "AUC:0.5 eta=0.0 m_d=1\n",
      "AUC:0.77689 eta=0.1 m_d=1\n",
      "AUC:0.78639 eta=0.2 m_d=1\n",
      "AUC:0.78862 eta=0.3 m_d=1\n",
      "AUC:0.78688 eta=0.4 m_d=1\n",
      "AUC:0.7963 eta=0.5 m_d=1\n",
      "AUC:0.79765 eta=0.6 m_d=1\n",
      "AUC:0.79361 eta=0.7 m_d=1\n",
      "AUC:0.79456 eta=0.8 m_d=1\n",
      "AUC:0.7895 eta=0.9 m_d=1\n",
      "AUC:0.5 eta=0.0 m_d=2\n",
      "AUC:0.79632 eta=0.1 m_d=2\n",
      "AUC:0.7944 eta=0.2 m_d=2\n",
      "AUC:0.81489 eta=0.3 m_d=2\n",
      "AUC:0.82051 eta=0.4 m_d=2\n",
      "AUC:0.82034 eta=0.5 m_d=2\n",
      "AUC:0.80681 eta=0.6 m_d=2\n",
      "AUC:0.80943 eta=0.7 m_d=2\n",
      "AUC:0.82221 eta=0.8 m_d=2\n",
      "AUC:0.80422 eta=0.9 m_d=2\n",
      "AUC:0.5 eta=0.0 m_d=3\n",
      "AUC:0.80257 eta=0.1 m_d=3\n",
      "AUC:0.79995 eta=0.2 m_d=3\n",
      "AUC:0.81605 eta=0.3 m_d=3\n",
      "AUC:0.82367 eta=0.4 m_d=3\n",
      "AUC:0.82407 eta=0.5 m_d=3\n",
      "AUC:0.81896 eta=0.6 m_d=3\n",
      "AUC:0.80076 eta=0.7 m_d=3\n",
      "AUC:0.79129 eta=0.8 m_d=3\n",
      "AUC:0.80016 eta=0.9 m_d=3\n",
      "AUC:0.5 eta=0.0 m_d=4\n",
      "AUC:0.81639 eta=0.1 m_d=4\n",
      "AUC:0.81367 eta=0.2 m_d=4\n",
      "AUC:0.81937 eta=0.3 m_d=4\n",
      "AUC:0.81152 eta=0.4 m_d=4\n",
      "AUC:0.81265 eta=0.5 m_d=4\n",
      "AUC:0.82452 eta=0.6 m_d=4\n",
      "AUC:0.80718 eta=0.7 m_d=4\n",
      "AUC:0.78892 eta=0.8 m_d=4\n",
      "AUC:0.79136 eta=0.9 m_d=4\n",
      "AUC:0.5 eta=0.0 m_d=5\n",
      "AUC:0.81357 eta=0.1 m_d=5\n",
      "AUC:0.82148 eta=0.2 m_d=5\n",
      "AUC:0.82535 eta=0.3 m_d=5\n",
      "AUC:0.81681 eta=0.4 m_d=5\n",
      "AUC:0.80532 eta=0.5 m_d=5\n",
      "AUC:0.81088 eta=0.6 m_d=5\n",
      "AUC:0.81813 eta=0.7 m_d=5\n",
      "AUC:0.77783 eta=0.8 m_d=5\n",
      "AUC:0.77081 eta=0.9 m_d=5\n",
      "AUC:0.5 eta=0.0 m_d=6\n",
      "AUC:0.80753 eta=0.1 m_d=6\n",
      "AUC:0.81558 eta=0.2 m_d=6\n",
      "AUC:0.80865 eta=0.3 m_d=6\n",
      "AUC:0.80723 eta=0.4 m_d=6\n",
      "AUC:0.8212 eta=0.5 m_d=6\n",
      "AUC:0.80737 eta=0.6 m_d=6\n",
      "AUC:0.78368 eta=0.7 m_d=6\n",
      "AUC:0.78839 eta=0.8 m_d=6\n",
      "AUC:0.76626 eta=0.9 m_d=6\n",
      "AUC:0.5 eta=0.0 m_d=7\n",
      "AUC:0.81106 eta=0.1 m_d=7\n",
      "AUC:0.80428 eta=0.2 m_d=7\n",
      "AUC:0.81672 eta=0.3 m_d=7\n",
      "AUC:0.82312 eta=0.4 m_d=7\n",
      "AUC:0.81947 eta=0.5 m_d=7\n",
      "AUC:0.79607 eta=0.6 m_d=7\n",
      "AUC:0.7958 eta=0.7 m_d=7\n",
      "AUC:0.77966 eta=0.8 m_d=7\n",
      "AUC:0.79161 eta=0.9 m_d=7\n",
      "AUC_max:0.8253457995325175\n",
      "eta=0.3   m_d=5\n",
      "time319.0152518749237\n"
     ]
    }
   ],
   "source": [
    "\n",
    "import xgboost as xgb\n",
    "from xgboost import XGBClassifier,plot_importance\n",
    "\n",
    "X_train, X_val, y_train, y_val = train_test_split(X, y, train_size=0.8, test_size=0.2, random_state=1)\n",
    "\n",
    "X_train1, X_train2, y_train1, y_train2 = train_test_split(X_train, y_train, train_size=0.8, \n",
    "                                                  test_size=0.2, random_state=None)\n",
    "\n",
    "fpr_list = []\n",
    "tpr_list = []\n",
    "AUC_list = []\n",
    "eta_list = []\n",
    "m_d_list = []\n",
    "t0=time.time()\n",
    "for m_d in range(1,8,1): \n",
    "    for eta in np.arange(0,1,0.1):\n",
    "        D_train = xgb.DMatrix(X_train1, label = y_train1)\n",
    "        D_val = xgb.DMatrix(X_train2, label = y_train2)\n",
    "        param = {\n",
    "            'eta': eta,#0.4,# \n",
    "            'alpha':0.0,\n",
    "            #'delta':0.1,\n",
    "            'max_depth':m_d,# 8,# \n",
    "            'objective': 'multi:softprob', \n",
    "            'gamma': 0.00,\n",
    "            'num_class': 2} \n",
    "\n",
    "        steps = 21  # The number of training iterations\n",
    "\n",
    "        model = xgb.train(param, D_train, steps)\n",
    "\n",
    "        preds = model.predict(D_val)\n",
    "        fpr, tpr, thresholds = roc_curve(y_train2, preds[:,1], pos_label=None)\n",
    "        fpr_list.append(fpr)\n",
    "        tpr_list.append(tpr)\n",
    "        AUC_list.append(auc(fpr, tpr))\n",
    "        eta_list.append(eta)\n",
    "        m_d_list.append(m_d)\n",
    "        print('AUC:%s'%np.round(auc(fpr, tpr),5),'eta=%s'%np.round(eta,2),'m_d=%s'%m_d)    \n",
    "\n",
    "t1 = time.time()\n",
    "ind_max = np.argmax(AUC_list)\n",
    "eta_amax = eta_list[ind_max]\n",
    "m_d_amax = m_d_list[ind_max]\n",
    "print('AUC_max:%s'%np.max(AUC_list))\n",
    "print('eta=%s'%np.round(eta_amax,2), '  m_d=%s'%m_d_amax)\n",
    "print('time%s'%(t1-t0))"
   ]
  },
  {
   "cell_type": "code",
   "execution_count": 61,
   "metadata": {},
   "outputs": [
    {
     "name": "stdout",
     "output_type": "stream",
     "text": [
      "AUC:0.94522\n"
     ]
    },
    {
     "data": {
      "image/png": "[encoded data removed]",
      "text/plain": [
       "<Figure size 432x288 with 1 Axes>"
      ]
     },
     "metadata": {
      "needs_background": "light"
     },
     "output_type": "display_data"
    }
   ],
   "source": [
    "D_train = xgb.DMatrix(X_train1, label = y_train1)\n",
    "param = {\n",
    "    'eta': eta_amax,#0.4,# \n",
    "    'alpha':0.0,\n",
    "    #'delta':0.1,\n",
    "    'max_depth':m_d_amax,# 8,# \n",
    "    'objective': 'multi:softprob', \n",
    "    'gamma': 0.0,\n",
    "    'num_class': 2} \n",
    "\n",
    "steps = 21  # The number of training iterations\n",
    "\n",
    "model = xgb.train(param, D_train, steps)\n",
    "\n",
    "preds = model.predict(D_train)\n",
    "fpr, tpr, thresholds = roc_curve(y_train1, preds[:,1], pos_label=None)\n",
    "\n",
    "\n",
    "plt.scatter(fpr,tpr)\n",
    "plt.xlabel('false positives rate')\n",
    "plt.ylabel('true positives rate')\n",
    "plt.plot(fpr,fpr)\n",
    "print('AUC:%s'%np.round(auc(fpr, tpr),5))"
   ]
  },
  {
   "cell_type": "code",
   "execution_count": 63,
   "metadata": {},
   "outputs": [
    {
     "name": "stdout",
     "output_type": "stream",
     "text": [
      "AUC:0.85181\n"
     ]
    },
    {
     "data": {
      "image/png": "[encoded data removed]",
      "text/plain": [
       "<Figure size 432x288 with 1 Axes>"
      ]
     },
     "metadata": {
      "needs_background": "light"
     },
     "output_type": "display_data"
    }
   ],
   "source": [
    "D_train = xgb.DMatrix(X_train, label = y_train)\n",
    "D_val = xgb.DMatrix(X_val)#, label = y_val)\n",
    "param = {\n",
    "    'eta': eta_amax,#0.4,# \n",
    "    'alpha':0.0,\n",
    "    #'delta':0.1,\n",
    "    'max_depth':m_d_amax,# 8,# \n",
    "    'objective': 'multi:softprob', \n",
    "    'gamma': 0.0,\n",
    "    'num_class': 2} \n",
    "\n",
    "steps = 21  # The number of training iterations\n",
    "\n",
    "model = xgb.train(param, D_train, steps)\n",
    "\n",
    "preds = model.predict(D_val)\n",
    "fpr, tpr, thresholds = roc_curve(y_val, preds[:,1], pos_label=None)\n",
    "\n",
    "\n",
    "plt.scatter(fpr,tpr)\n",
    "plt.xlabel('false positives rate')\n",
    "plt.ylabel('true positives rate')\n",
    "plt.plot(fpr,fpr)\n",
    "print('AUC:%s'%np.round(auc(fpr, tpr),5))"
   ]
  },
  {
   "cell_type": "code",
   "execution_count": 64,
   "metadata": {},
   "outputs": [
    {
     "data": {
      "text/html": [
       "<div>\n",
       "<style scoped>\n",
       "    .dataframe tbody tr th:only-of-type {\n",
       "        vertical-align: middle;\n",
       "    }\n",
       "\n",
       "    .dataframe tbody tr th {\n",
       "        vertical-align: top;\n",
       "    }\n",
       "\n",
       "    .dataframe thead th {\n",
       "        text-align: right;\n",
       "    }\n",
       "</style>\n",
       "<table border=\"1\" class=\"dataframe\">\n",
       "  <thead>\n",
       "    <tr style=\"text-align: right;\">\n",
       "      <th></th>\n",
       "      <th>image_name</th>\n",
       "      <th>patient_id</th>\n",
       "      <th>sex</th>\n",
       "      <th>age_approx</th>\n",
       "      <th>anatom_site_general_challenge</th>\n",
       "      <th>N_contours</th>\n",
       "      <th>total_perimeter</th>\n",
       "      <th>max_area</th>\n",
       "      <th>total_area</th>\n",
       "      <th>max_complexity</th>\n",
       "      <th>...</th>\n",
       "      <th>in_red_mean</th>\n",
       "      <th>out_red</th>\n",
       "      <th>in_green_mean</th>\n",
       "      <th>out_green</th>\n",
       "      <th>in_blue_mean</th>\n",
       "      <th>out_blue</th>\n",
       "      <th>mean_red_ratio</th>\n",
       "      <th>mean_green_ratio</th>\n",
       "      <th>mean_blue_ratio</th>\n",
       "      <th>freq</th>\n",
       "    </tr>\n",
       "  </thead>\n",
       "  <tbody>\n",
       "    <tr>\n",
       "      <th>10977</th>\n",
       "      <td>ISIC_9992485</td>\n",
       "      <td>1.492689</td>\n",
       "      <td>-0.940756</td>\n",
       "      <td>-0.628181</td>\n",
       "      <td>0.658373</td>\n",
       "      <td>-2.842530</td>\n",
       "      <td>-1.204573</td>\n",
       "      <td>-0.906965</td>\n",
       "      <td>-0.891222</td>\n",
       "      <td>-1.084332</td>\n",
       "      <td>...</td>\n",
       "      <td>-3.083978</td>\n",
       "      <td>0.223959</td>\n",
       "      <td>-2.441137</td>\n",
       "      <td>0.223959</td>\n",
       "      <td>-2.087024</td>\n",
       "      <td>0.223959</td>\n",
       "      <td>-0.013183</td>\n",
       "      <td>-0.012940</td>\n",
       "      <td>-0.013605</td>\n",
       "      <td>0.467171</td>\n",
       "    </tr>\n",
       "    <tr>\n",
       "      <th>10978</th>\n",
       "      <td>ISIC_9996992</td>\n",
       "      <td>1.189719</td>\n",
       "      <td>-0.940756</td>\n",
       "      <td>-0.975877</td>\n",
       "      <td>0.658373</td>\n",
       "      <td>0.058806</td>\n",
       "      <td>-0.677174</td>\n",
       "      <td>-0.665789</td>\n",
       "      <td>-0.658501</td>\n",
       "      <td>-0.403753</td>\n",
       "      <td>...</td>\n",
       "      <td>0.025692</td>\n",
       "      <td>-0.305067</td>\n",
       "      <td>0.165598</td>\n",
       "      <td>-0.305067</td>\n",
       "      <td>0.459032</td>\n",
       "      <td>-0.305067</td>\n",
       "      <td>-0.004892</td>\n",
       "      <td>-0.004955</td>\n",
       "      <td>-0.004673</td>\n",
       "      <td>-1.028875</td>\n",
       "    </tr>\n",
       "    <tr>\n",
       "      <th>10979</th>\n",
       "      <td>ISIC_9997917</td>\n",
       "      <td>1.273675</td>\n",
       "      <td>-0.940756</td>\n",
       "      <td>-1.671268</td>\n",
       "      <td>-1.342352</td>\n",
       "      <td>0.058806</td>\n",
       "      <td>0.455363</td>\n",
       "      <td>0.917269</td>\n",
       "      <td>0.881046</td>\n",
       "      <td>-0.247470</td>\n",
       "      <td>...</td>\n",
       "      <td>-0.365052</td>\n",
       "      <td>-0.874994</td>\n",
       "      <td>-0.558495</td>\n",
       "      <td>-0.874994</td>\n",
       "      <td>-1.150974</td>\n",
       "      <td>-0.874994</td>\n",
       "      <td>-0.004601</td>\n",
       "      <td>-0.006862</td>\n",
       "      <td>-0.009738</td>\n",
       "      <td>1.179574</td>\n",
       "    </tr>\n",
       "    <tr>\n",
       "      <th>10980</th>\n",
       "      <td>ISIC_9998234</td>\n",
       "      <td>1.493906</td>\n",
       "      <td>-0.940756</td>\n",
       "      <td>1.110297</td>\n",
       "      <td>-0.341989</td>\n",
       "      <td>0.058806</td>\n",
       "      <td>-0.764711</td>\n",
       "      <td>-0.707015</td>\n",
       "      <td>-0.697328</td>\n",
       "      <td>-0.523049</td>\n",
       "      <td>...</td>\n",
       "      <td>0.628088</td>\n",
       "      <td>0.637727</td>\n",
       "      <td>0.871589</td>\n",
       "      <td>0.637727</td>\n",
       "      <td>1.432524</td>\n",
       "      <td>0.637727</td>\n",
       "      <td>-0.005309</td>\n",
       "      <td>-0.004445</td>\n",
       "      <td>-0.003674</td>\n",
       "      <td>-0.601434</td>\n",
       "    </tr>\n",
       "    <tr>\n",
       "      <th>10981</th>\n",
       "      <td>ISIC_9999302</td>\n",
       "      <td>1.315044</td>\n",
       "      <td>-0.940756</td>\n",
       "      <td>-1.323572</td>\n",
       "      <td>-1.342352</td>\n",
       "      <td>0.058806</td>\n",
       "      <td>0.366323</td>\n",
       "      <td>-0.099360</td>\n",
       "      <td>-0.111930</td>\n",
       "      <td>0.718810</td>\n",
       "      <td>...</td>\n",
       "      <td>-0.609267</td>\n",
       "      <td>0.082886</td>\n",
       "      <td>-0.558495</td>\n",
       "      <td>0.082886</td>\n",
       "      <td>-0.888880</td>\n",
       "      <td>0.082886</td>\n",
       "      <td>-0.007216</td>\n",
       "      <td>-0.007585</td>\n",
       "      <td>-0.008347</td>\n",
       "      <td>1.891977</td>\n",
       "    </tr>\n",
       "  </tbody>\n",
       "</table>\n",
       "<p>5 rows × 23 columns</p>\n",
       "</div>"
      ],
      "text/plain": [
       "         image_name  patient_id       sex  age_approx  \\\n",
       "10977  ISIC_9992485    1.492689 -0.940756   -0.628181   \n",
       "10978  ISIC_9996992    1.189719 -0.940756   -0.975877   \n",
       "10979  ISIC_9997917    1.273675 -0.940756   -1.671268   \n",
       "10980  ISIC_9998234    1.493906 -0.940756    1.110297   \n",
       "10981  ISIC_9999302    1.315044 -0.940756   -1.323572   \n",
       "\n",
       "       anatom_site_general_challenge  N_contours  total_perimeter  max_area  \\\n",
       "10977                       0.658373   -2.842530        -1.204573 -0.906965   \n",
       "10978                       0.658373    0.058806        -0.677174 -0.665789   \n",
       "10979                      -1.342352    0.058806         0.455363  0.917269   \n",
       "10980                      -0.341989    0.058806        -0.764711 -0.707015   \n",
       "10981                      -1.342352    0.058806         0.366323 -0.099360   \n",
       "\n",
       "       total_area  max_complexity  ...  in_red_mean   out_red  in_green_mean  \\\n",
       "10977   -0.891222       -1.084332  ...    -3.083978  0.223959      -2.441137   \n",
       "10978   -0.658501       -0.403753  ...     0.025692 -0.305067       0.165598   \n",
       "10979    0.881046       -0.247470  ...    -0.365052 -0.874994      -0.558495   \n",
       "10980   -0.697328       -0.523049  ...     0.628088  0.637727       0.871589   \n",
       "10981   -0.111930        0.718810  ...    -0.609267  0.082886      -0.558495   \n",
       "\n",
       "       out_green  in_blue_mean  out_blue  mean_red_ratio  mean_green_ratio  \\\n",
       "10977   0.223959     -2.087024  0.223959       -0.013183         -0.012940   \n",
       "10978  -0.305067      0.459032 -0.305067       -0.004892         -0.004955   \n",
       "10979  -0.874994     -1.150974 -0.874994       -0.004601         -0.006862   \n",
       "10980   0.637727      1.432524  0.637727       -0.005309         -0.004445   \n",
       "10981   0.082886     -0.888880  0.082886       -0.007216         -0.007585   \n",
       "\n",
       "       mean_blue_ratio      freq  \n",
       "10977        -0.013605  0.467171  \n",
       "10978        -0.004673 -1.028875  \n",
       "10979        -0.009738  1.179574  \n",
       "10980        -0.003674 -0.601434  \n",
       "10981        -0.008347  1.891977  \n",
       "\n",
       "[5 rows x 23 columns]"
      ]
     },
     "execution_count": 64,
     "metadata": {},
     "output_type": "execute_result"
    }
   ],
   "source": [
    "X_test = merge_test[cols]\n",
    "X_test.tail()"
   ]
  },
  {
   "cell_type": "code",
   "execution_count": 65,
   "metadata": {},
   "outputs": [
    {
     "data": {
      "text/html": [
       "<div>\n",
       "<style scoped>\n",
       "    .dataframe tbody tr th:only-of-type {\n",
       "        vertical-align: middle;\n",
       "    }\n",
       "\n",
       "    .dataframe tbody tr th {\n",
       "        vertical-align: top;\n",
       "    }\n",
       "\n",
       "    .dataframe thead th {\n",
       "        text-align: right;\n",
       "    }\n",
       "</style>\n",
       "<table border=\"1\" class=\"dataframe\">\n",
       "  <thead>\n",
       "    <tr style=\"text-align: right;\">\n",
       "      <th></th>\n",
       "      <th>image_name</th>\n",
       "      <th>target</th>\n",
       "    </tr>\n",
       "  </thead>\n",
       "  <tbody>\n",
       "    <tr>\n",
       "      <th>10977</th>\n",
       "      <td>ISIC_9992485</td>\n",
       "      <td>0.008142</td>\n",
       "    </tr>\n",
       "    <tr>\n",
       "      <th>10978</th>\n",
       "      <td>ISIC_9996992</td>\n",
       "      <td>0.020064</td>\n",
       "    </tr>\n",
       "    <tr>\n",
       "      <th>10979</th>\n",
       "      <td>ISIC_9997917</td>\n",
       "      <td>0.024592</td>\n",
       "    </tr>\n",
       "    <tr>\n",
       "      <th>10980</th>\n",
       "      <td>ISIC_9998234</td>\n",
       "      <td>0.000930</td>\n",
       "    </tr>\n",
       "    <tr>\n",
       "      <th>10981</th>\n",
       "      <td>ISIC_9999302</td>\n",
       "      <td>0.018114</td>\n",
       "    </tr>\n",
       "  </tbody>\n",
       "</table>\n",
       "</div>"
      ],
      "text/plain": [
       "         image_name    target\n",
       "10977  ISIC_9992485  0.008142\n",
       "10978  ISIC_9996992  0.020064\n",
       "10979  ISIC_9997917  0.024592\n",
       "10980  ISIC_9998234  0.000930\n",
       "10981  ISIC_9999302  0.018114"
      ]
     },
     "execution_count": 65,
     "metadata": {},
     "output_type": "execute_result"
    }
   ],
   "source": [
    "X_test.drop([\"patient_id\",\"image_name\"], axis=1, inplace=True)\n",
    "\n",
    "X_test = X_test.replace(np.inf, np.nan)\n",
    "\n",
    "X_test.replace(np.inf, np.nan)\n",
    "\n",
    "D_test = xgb.DMatrix(X_test)\n",
    "\n",
    "y_test_p  = model.predict(D_test)\n",
    "\n",
    "sample_sub.target = y_test_p[:,1]\n",
    "\n",
    "sample_sub.to_csv(\"submission.csv\", index=False)\n",
    "\n",
    "sample_sub.tail()"
   ]
  },
  {
   "cell_type": "code",
   "execution_count": 57,
   "metadata": {},
   "outputs": [
    {
     "name": "stdout",
     "output_type": "stream",
     "text": [
      "[0.0455374  0.06290589 0.04771514 0.04323577 0.04694512 0.04716183\n",
      " 0.05205464 0.0447152  0.0500338  0.06556495 0.04642761 0.05006003\n",
      " 0.08427777 0.05146283 0.         0.05024365 0.         0.04855768\n",
      " 0.05084812 0.0509284  0.06132431]\n"
     ]
    },
    {
     "data": {
      "text/plain": [
       "Index(['sex', 'age_approx', 'anatom_site_general_challenge', 'N_contours',\n",
       "       'total_perimeter', 'max_area', 'total_area', 'max_complexity',\n",
       "       'mean_complexity', 'in_gray_mean', 'out_gray', 'in_red_mean', 'out_red',\n",
       "       'in_green_mean', 'out_green', 'in_blue_mean', 'out_blue',\n",
       "       'mean_red_ratio', 'mean_green_ratio', 'mean_blue_ratio', 'freq'],\n",
       "      dtype='object')"
      ]
     },
     "execution_count": 57,
     "metadata": {},
     "output_type": "execute_result"
    },
    {
     "data": {
      "image/png": "[encoded data removed]",
      "text/plain": [
       "<Figure size 432x288 with 1 Axes>"
      ]
     },
     "metadata": {
      "needs_background": "light"
     },
     "output_type": "display_data"
    }
   ],
   "source": [
    "model = XGBClassifier()\n",
    "model.fit(X_train, y_train)\n",
    "# feature importance\n",
    "print(model.feature_importances_)\n",
    "# plot feature importance\n",
    "plot_importance(model, importance_type='gain', show_values=False)\n",
    "X.columns"
   ]
  },
  {
   "cell_type": "code",
   "execution_count": null,
   "metadata": {},
   "outputs": [],
   "source": []
  }
 ],
 "metadata": {
  "kernelspec": {
   "display_name": "Python 3",
   "language": "python",
   "name": "python3"
  },
  "language_info": {
   "codemirror_mode": {
    "name": "ipython",
    "version": 3
   },
   "file_extension": ".py",
   "mimetype": "text/x-python",
   "name": "python",
   "nbconvert_exporter": "python",
   "pygments_lexer": "ipython3",
   "version": "3.7.3"
  }
 },
 "nbformat": 4,
 "nbformat_minor": 4
}
