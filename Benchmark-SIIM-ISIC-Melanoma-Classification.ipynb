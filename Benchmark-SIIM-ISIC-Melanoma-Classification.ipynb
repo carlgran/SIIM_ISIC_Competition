{
 "cells": [
  {
   "cell_type": "markdown",
   "metadata": {},
   "source": [
    "# ToDo\n",
    "\n",
    "Next week: OpenCV, CNN, doc, M5 day; HOML night\n",
    "\n",
    "\n",
    "4. Join other data\n",
    "10. Regularize\n",
    "1. Try SVM's \n",
    "1. Try polynomial features\n",
    "1. Sratified KFolds\n",
    "1. Cross validation\n",
    "1. Same scales broader boundaries\n",
    "2. Feature Importance \n",
    "3. Pipelines\n",
    "4. Put into functions\n",
    "\n",
    "\n",
    "References\n",
    "1. [Dermatologist skin cancer classification CNN](https://towardsdatascience.com/dermatologist-level-skin-cancer-classification-using-neural-network-475f93d7f8c3)\n",
    "2. [Painting and Sketching with OpenCV](https://towardsdatascience.com/painting-and-sketching-with-opencv-in-python-4293026d78b)\n",
    "2. [Data Visualization in Python with fully-interactive plots Python](https://towardsdatascience.com/the-next-level-of-data-visualization-in-python-dd6e99039d5e)\n",
    "2. [how to implement a lightgbm](https://medium.com/@pushkarmandot/https-medium-com-pushkarmandot-what-is-lightgbm-how-to-implement-it-how-to-fine-tune-the-parameters-60347819b7fc)\n",
    "2. [Cat Dog classifier CNN](https://machinelearningmastery.com/how-to-develop-a-convolutional-neural-network-to-classify-photos-of-dogs-and-cats/)\n",
    "2. [feature importance with xgboost](https://machinelearningmastery.com/feature-importance-and-feature-selection-with-xgboost-in-python/)\n",
    "2. [shapley-values](https://medium.com/@santiagof/model-interpretability-making-your-model-confess-shapley-values-5fb95a10a624)\n",
    "2. [Find and Draw Contours using OpenCV](https://www.geeksforgeeks.org/find-and-draw-contours-using-opencv-python/)\n",
    "2. [Medical Image Segmentation [Part 1] — UNet: Convolutional Networks with Interactive Code](https://medium.com/@SeoJaeDuk/medical-image-segmentation-part-1-unet-convolutional-networks-with-interactive-code-d07231eb29bf)\n",
    "2. [Complexity - Morphometrics](https://www.researchgate.net/post/Can_anyone_give_me_information_about_Perimeter_Area_relationship_and_its_importance_mathematically_and_biometrically_plant_leaves_phenomics)\n",
    "\n",
    "**Idea**: Add computed features using time windows on each image generating interactions  image_count(add) and anatom_site categories \n",
    "\n",
    "**Summary:** To train binary classifiers, choose the appropriate metric for your task, evaluate your classifiers using cross-validation, select the precision/recall tradeoff that fits your needs, and compare various models using ROC curves and ROC AUC scores. \n"
   ]
  },
  {
   "cell_type": "code",
   "execution_count": 1,
   "metadata": {},
   "outputs": [
    {
     "data": {
      "text/html": [
       "        <script type=\"text/javascript\">\n",
       "        window.PlotlyConfig = {MathJaxConfig: 'local'};\n",
       "        if (window.MathJax) {MathJax.Hub.Config({SVG: {font: \"STIX-Web\"}});}\n",
       "        if (typeof require !== 'undefined') {\n",
       "        require.undef(\"plotly\");\n",
       "        requirejs.config({\n",
       "            paths: {\n",
       "                'plotly': ['https://cdn.plot.ly/plotly-latest.min']\n",
       "            }\n",
       "        });\n",
       "        require(['plotly'], function(Plotly) {\n",
       "            window._Plotly = Plotly;\n",
       "        });\n",
       "        }\n",
       "        </script>\n",
       "        "
      ]
     },
     "metadata": {},
     "output_type": "display_data"
    },
    {
     "data": {
      "text/html": [
       "<div>\n",
       "<style scoped>\n",
       "    .dataframe tbody tr th:only-of-type {\n",
       "        vertical-align: middle;\n",
       "    }\n",
       "\n",
       "    .dataframe tbody tr th {\n",
       "        vertical-align: top;\n",
       "    }\n",
       "\n",
       "    .dataframe thead th {\n",
       "        text-align: right;\n",
       "    }\n",
       "</style>\n",
       "<table border=\"1\" class=\"dataframe\">\n",
       "  <thead>\n",
       "    <tr style=\"text-align: right;\">\n",
       "      <th></th>\n",
       "      <th>image_name</th>\n",
       "      <th>patient_id</th>\n",
       "      <th>sex</th>\n",
       "      <th>age_approx</th>\n",
       "      <th>anatom_site_general_challenge</th>\n",
       "      <th>diagnosis</th>\n",
       "      <th>benign_malignant</th>\n",
       "      <th>target</th>\n",
       "    </tr>\n",
       "  </thead>\n",
       "  <tbody>\n",
       "    <tr>\n",
       "      <th>0</th>\n",
       "      <td>ISIC_2637011</td>\n",
       "      <td>IP_7279968</td>\n",
       "      <td>male</td>\n",
       "      <td>45.0</td>\n",
       "      <td>head/neck</td>\n",
       "      <td>unknown</td>\n",
       "      <td>benign</td>\n",
       "      <td>0</td>\n",
       "    </tr>\n",
       "    <tr>\n",
       "      <th>1</th>\n",
       "      <td>ISIC_0015719</td>\n",
       "      <td>IP_3075186</td>\n",
       "      <td>female</td>\n",
       "      <td>45.0</td>\n",
       "      <td>upper extremity</td>\n",
       "      <td>unknown</td>\n",
       "      <td>benign</td>\n",
       "      <td>0</td>\n",
       "    </tr>\n",
       "  </tbody>\n",
       "</table>\n",
       "</div>"
      ],
      "text/plain": [
       "     image_name  patient_id     sex  age_approx anatom_site_general_challenge  \\\n",
       "0  ISIC_2637011  IP_7279968    male        45.0                     head/neck   \n",
       "1  ISIC_0015719  IP_3075186  female        45.0               upper extremity   \n",
       "\n",
       "  diagnosis benign_malignant  target  \n",
       "0   unknown           benign       0  \n",
       "1   unknown           benign       0  "
      ]
     },
     "execution_count": 1,
     "metadata": {},
     "output_type": "execute_result"
    }
   ],
   "source": [
    "import pandas as pd\n",
    "import numpy as np\n",
    "import pylab as plt\n",
    "from IPython import display\n",
    "import seaborn as sns\n",
    "sns.set()\n",
    "import matplotlib\n",
    "from pylab import rcParams\n",
    "import itertools \n",
    "import time \n",
    "from random import seed\n",
    "from random import random\n",
    "from matplotlib import pyplot\n",
    "\n",
    "#from skimage.io import imread\n",
    "from PIL import Image\n",
    "\n",
    "import plotly.offline as py\n",
    "py.init_notebook_mode(connected=True)\n",
    "import plotly.graph_objs as go\n",
    "from plotly.subplots import make_subplots\n",
    "\n",
    "#Reading data, calendar and sell_prices\n",
    "train = pd.read_csv('../data/train.csv')\n",
    "test = pd.read_csv('../data/test.csv')\n",
    "sample_submission = pd.read_csv('../data/sample_submission.csv')\n",
    "train.head(2)"
   ]
  },
  {
   "cell_type": "markdown",
   "metadata": {},
   "source": [
    "# Models to try\n",
    "### Random Forest"
   ]
  },
  {
   "cell_type": "code",
   "execution_count": 24,
   "metadata": {},
   "outputs": [],
   "source": [
    "from sklearn.ensemble import RandomForestClassifier\n",
    "from sklearn import metrics\n",
    "# Function for comparing different approaches\n",
    "def train_randomForest(X_train, X_valid, y_train, y_valid, test = None, feature_cols=None, plott = False):\n",
    "    if feature_cols is None:\n",
    "        feature_cols = X_train.columns\n",
    "    model = RandomForestClassifier(n_estimators=20, random_state=42)\n",
    "    model.fit(X_train[feature_cols], y_train)\n",
    "    preds = model.predict_proba(X_valid[feature_cols])[:,1]\n",
    "    valid_score = metrics.roc_auc_score(y_valid, preds)\n",
    "    if plott:\n",
    "        fpr, tpr, _ = metrics.roc_curve(y_valid, preds, pos_label=None)\n",
    "        plt.scatter(fpr,tpr)\n",
    "        plt.plot(fpr,fpr)\n",
    "        plt.xlabel('false positives rate')\n",
    "        plt.ylabel('true positives rate')\n",
    "    print(f\"random forest AUC score: {valid_score}\")\n",
    "    return valid_score\n",
    "    if test is not None: \n",
    "        test_pred = model.predict(test)\n",
    "        return model, valid_score, test_pred\n",
    "    else:\n",
    "        return model, valid_score"
   ]
  },
  {
   "cell_type": "markdown",
   "metadata": {},
   "source": [
    "### Light Gradient Boosted Machine (lightGBM)"
   ]
  },
  {
   "cell_type": "code",
   "execution_count": 18,
   "metadata": {},
   "outputs": [],
   "source": [
    "import lightgbm as lgb\n",
    "\n",
    "def train_lbgm(train, valid, y_train, y_valid, test=None, feature_cols=None, plott=False, num_leaves = 16):\n",
    "    if feature_cols is None:\n",
    "        feature_cols = train.columns\n",
    "    dtrain = lgb.Dataset(train[feature_cols], label=y_train)\n",
    "    dvalid = lgb.Dataset(valid[feature_cols], label=y_valid)\n",
    "    \n",
    "    param = {'num_leaves': num_leaves, 'objective': 'binary', 'metric': 'auc', 'seed': 42}\n",
    "    num_round = 20000\n",
    "    print(\"Training model. Hold on a minute to see the validation score\")\n",
    "    bst = lgb.train(param, dtrain, num_round, valid_sets=[dvalid], early_stopping_rounds=40, verbose_eval=False)\n",
    "    \n",
    "    valid_pred = bst.predict(valid[feature_cols])\n",
    "    valid_score = metrics.roc_auc_score(y_valid, valid_pred)\n",
    "    print(f\"lightbgm AUC score: {valid_score}\")\n",
    "    if plott:\n",
    "        fpr, tpr, _ = metrics.roc_curve(y_valid, valid_pred, pos_label=1)\n",
    "        plt.scatter(fpr,tpr)\n",
    "        plt.plot(fpr,fpr)\n",
    "        plt.xlabel('false positives rate')\n",
    "        plt.ylabel('true positives rate')\n",
    "    if test is not None: \n",
    "        test_pred = bst.predict(test[feature_cols])\n",
    "        return bst, valid_score, test_pred\n",
    "    else:\n",
    "        return bst, valid_score"
   ]
  },
  {
   "cell_type": "markdown",
   "metadata": {},
   "source": [
    "### Logistic Regression"
   ]
  },
  {
   "cell_type": "code",
   "execution_count": 115,
   "metadata": {},
   "outputs": [],
   "source": [
    "from sklearn.linear_model import LogisticRegression\n",
    "\n",
    "def train_logisticReg(X_train, X_valid, y_train, y_valid, test = None, feature_cols=None, plott = False):\n",
    "    if feature_cols is None:\n",
    "        feature_cols = X_train.columns\n",
    "    clf = LogisticRegression(random_state=42, max_iter=1000)\n",
    "    clf.fit(X_train[feature_cols], y_train)\n",
    "    preds = clf.predict_proba(X_valid[feature_cols])[:,1]\n",
    "    valid_score = metrics.roc_auc_score(y_valid, preds)\n",
    "    if plott:\n",
    "        fpr, tpr, _ = metrics.roc_curve(y_valid, preds, pos_label=None)\n",
    "        plt.scatter(fpr,tpr)\n",
    "        plt.plot(fpr,fpr)\n",
    "        plt.xlabel('false positives rate')\n",
    "        plt.ylabel('true positives rate')\n",
    "    print(f\"Logistic Regression AUC score: {valid_score}\")\n",
    "    if test is not None: \n",
    "        test_pred = clf.predict(test)\n",
    "        return clf, valid_score, test_pred\n",
    "    else:\n",
    "        return clf, valid_score"
   ]
  },
  {
   "cell_type": "markdown",
   "metadata": {},
   "source": [
    "### XGBOOST"
   ]
  },
  {
   "cell_type": "code",
   "execution_count": 226,
   "metadata": {},
   "outputs": [],
   "source": [
    "import xgboost as xgb\n",
    "from xgboost import XGBClassifier, plot_importance\n",
    "\n",
    "def train_xgb(train, valid, y_train, y_valid, test=None, feature_cols=None, plott=False, \n",
    "              num_round = 200,eta = 0.4, alpha=0.0, gamma=0.0, max_depth = 8):\n",
    "    if feature_cols is None:\n",
    "        feature_cols = train.columns\n",
    "    dtrain = xgb.DMatrix(train[feature_cols], label=y_train)\n",
    "    dvalid = xgb.DMatrix(valid[feature_cols], label=y_valid)\n",
    "    #param = {'num_leaves': num_leaves, 'objective': 'binary', 'metric': 'auc', 'seed': 42\n",
    "    param = {'eta': eta,'alpha':alpha, 'max_depth':max_depth, 'objective': 'multi:softprob', 'gamma': gamma,'num_class': 2} \n",
    "    \n",
    "    print(\"Training model.\")\n",
    "    bst = xgb.train(param, dtrain, num_round, evals=[(dvalid, \"valid\")], early_stopping_rounds=20, verbose_eval=False)\n",
    "    \n",
    "    valid_pred = bst.predict(dvalid)\n",
    "    valid_score = metrics.roc_auc_score(y_valid, valid_pred[:,1])\n",
    "    print(f\"XGBoost AUC score: {valid_score}\")\n",
    "    if plott:\n",
    "        fpr, tpr, _ = metrics.roc_curve(y_valid, valid_pred[:,1], pos_label=None)#, pos_label=1)\n",
    "        plt.scatter(fpr,tpr)\n",
    "        plt.plot(fpr,fpr)\n",
    "        plt.xlabel('false positives rate')\n",
    "        plt.ylabel('true positives rate')\n",
    "    if test is not None: \n",
    "        test_pred = bst.predict(test[feature_cols])\n",
    "        return bst, valid_score, test_pred\n",
    "    else:\n",
    "        return bst, valid_score\n",
    "\n"
   ]
  },
  {
   "cell_type": "code",
   "execution_count": 317,
   "metadata": {},
   "outputs": [],
   "source": [
    "eta = 0.4\n",
    "max_depth = 6\n",
    "D_train = xgb.DMatrix(baseline_train, label = y_train)\n",
    "D_val = xgb.DMatrix(baseline_valid, label = y_valid)\n",
    "param = {'eta': eta,'alpha':0.1, #'delta':0.1,\n",
    "         'max_depth':max_depth, 'objective': 'multi:softprob', 'gamma': 0.00,'num_class': 2} \n",
    "steps = 21  # The number of training iterations\n",
    "model = xgb.train(param, D_train, steps)\n",
    "\n",
    "preds = model.predict(D_val)\n",
    "fpr, tpr, thresholds = metrics.roc_curve(y_valid, preds[:,1], pos_label=None)\n",
    "#plt.scatter(fpr,tpr)\n",
    "#plt.plot(fpr,fpr)\n",
    "#plt.xlabel('false positives rate')\n",
    "#plt.ylabel('true positives rate')"
   ]
  },
  {
   "cell_type": "markdown",
   "metadata": {},
   "source": [
    "### Extract gender per patient"
   ]
  },
  {
   "cell_type": "code",
   "execution_count": 5,
   "metadata": {},
   "outputs": [],
   "source": [
    "def create_patient_df(train,test):\n",
    "    #Create a series with patient_id as index and gender values for train and test\n",
    "    patient_gender_train = train.groupby(\"patient_id\").sex.unique().apply(lambda l: l[0])\n",
    "    patient_gender_test = test.groupby(\"patient_id\").sex.unique().apply(lambda l: l[0])\n",
    "    #Convert series into train_patients and test_patients dataframes \n",
    "    train_patients = pd.DataFrame(index=patient_gender_train.index.values, \n",
    "                                  data=patient_gender_train.values, columns=[\"sex\"])\n",
    "    test_patients = pd.DataFrame(index=patient_gender_test.index.values, \n",
    "                                 data=patient_gender_test.values, columns=[\"sex\"])\n",
    "    #Extract nun_images with proper groupby\n",
    "    train_patients[\"num_images\"] = train.groupby(\"patient_id\").size()\n",
    "    test_patients[\"num_images\"] = test.groupby(\"patient_id\").size()\n",
    "    #Extract age_span for patient with multiple images\n",
    "    train_patients[\"min_age\"] = train.groupby(\"patient_id\").age_approx.min()\n",
    "    train_patients[\"max_age\"] = train.groupby(\"patient_id\").age_approx.max()\n",
    "    test_patients[\"min_age\"] = test.groupby(\"patient_id\").age_approx.min()\n",
    "    test_patients[\"max_age\"] = test.groupby(\"patient_id\").age_approx.max()\n",
    "    train_patients[\"age_span\"] = train_patients[\"max_age\"] - train_patients[\"min_age\"]\n",
    "    test_patients[\"age_span\"] = test_patients[\"max_age\"] - test_patients[\"min_age\"]\n",
    "    #Extract benign_cases  and min and max aged for malignant\n",
    "    train_patients[\"benign_cases\"] = train.groupby([\"patient_id\", \"benign_malignant\"]).size().loc[:, \"benign\"]\n",
    "    train_patients[\"malignant_cases\"] = train.groupby([\"patient_id\", \"benign_malignant\"]).size().loc[:, \"malignant\"]\n",
    "    train_patients[\"min_age_malignant\"] = train.groupby([\"patient_id\", \"benign_malignant\"]).age_approx.min().loc[:, \"malignant\"]\n",
    "    train_patients[\"max_age_malignant\"] = train.groupby([\"patient_id\", \"benign_malignant\"]).age_approx.max().loc[:, \"malignant\"]\n",
    "    return train_patients, test_patients\n"
   ]
  },
  {
   "cell_type": "markdown",
   "metadata": {},
   "source": [
    "## Patient Id Counts"
   ]
  },
  {
   "cell_type": "code",
   "execution_count": 6,
   "metadata": {},
   "outputs": [
    {
     "name": "stdout",
     "output_type": "stream",
     "text": [
      "train_patients shape: (2056, 9)\n",
      "Malignant cases count train:\n",
      "False    1628\n",
      "True      428\n",
      "Name: malignant_cases, dtype: int64\n"
     ]
    },
    {
     "data": {
      "text/html": [
       "<div>\n",
       "<style scoped>\n",
       "    .dataframe tbody tr th:only-of-type {\n",
       "        vertical-align: middle;\n",
       "    }\n",
       "\n",
       "    .dataframe tbody tr th {\n",
       "        vertical-align: top;\n",
       "    }\n",
       "\n",
       "    .dataframe thead th {\n",
       "        text-align: right;\n",
       "    }\n",
       "</style>\n",
       "<table border=\"1\" class=\"dataframe\">\n",
       "  <thead>\n",
       "    <tr style=\"text-align: right;\">\n",
       "      <th></th>\n",
       "      <th>sex</th>\n",
       "      <th>num_images</th>\n",
       "      <th>min_age</th>\n",
       "      <th>max_age</th>\n",
       "      <th>age_span</th>\n",
       "      <th>benign_cases</th>\n",
       "      <th>malignant_cases</th>\n",
       "      <th>min_age_malignant</th>\n",
       "      <th>max_age_malignant</th>\n",
       "    </tr>\n",
       "  </thead>\n",
       "  <tbody>\n",
       "    <tr>\n",
       "      <th>IP_7373371</th>\n",
       "      <td>female</td>\n",
       "      <td>42</td>\n",
       "      <td>55.0</td>\n",
       "      <td>60.0</td>\n",
       "      <td>5.0</td>\n",
       "      <td>34.0</td>\n",
       "      <td>8.0</td>\n",
       "      <td>55.0</td>\n",
       "      <td>60.0</td>\n",
       "    </tr>\n",
       "    <tr>\n",
       "      <th>IP_9111321</th>\n",
       "      <td>male</td>\n",
       "      <td>13</td>\n",
       "      <td>60.0</td>\n",
       "      <td>60.0</td>\n",
       "      <td>0.0</td>\n",
       "      <td>7.0</td>\n",
       "      <td>6.0</td>\n",
       "      <td>60.0</td>\n",
       "      <td>60.0</td>\n",
       "    </tr>\n",
       "  </tbody>\n",
       "</table>\n",
       "</div>"
      ],
      "text/plain": [
       "               sex  num_images  min_age  max_age  age_span  benign_cases  \\\n",
       "IP_7373371  female          42     55.0     60.0       5.0          34.0   \n",
       "IP_9111321    male          13     60.0     60.0       0.0           7.0   \n",
       "\n",
       "            malignant_cases  min_age_malignant  max_age_malignant  \n",
       "IP_7373371              8.0               55.0               60.0  \n",
       "IP_9111321              6.0               60.0               60.0  "
      ]
     },
     "execution_count": 6,
     "metadata": {},
     "output_type": "execute_result"
    }
   ],
   "source": [
    "train_patients, test_patients = create_patient_df(train,test)\n",
    "print(\"train_patients shape:\",train_patients.shape)\n",
    "print('Malignant cases count train:')\n",
    "print(train_patients.malignant_cases.notnull().value_counts())\n",
    "train_patients.sort_values(by=\"malignant_cases\", ascending=False).head(2)"
   ]
  },
  {
   "cell_type": "markdown",
   "metadata": {},
   "source": [
    "## Preprocess Categorical Variables\n",
    "\n",
    "##  Impute and label encode separately for the test-valid-train distributions\n",
    "\n",
    "Better suited for production like scenarios.\n",
    "\n",
    "Missing values and `SimpleImputer`. The `anatom_site_general_challenge` and sex` category` in the train set has a lot of  NaNs, we will repalce them with the `'Unknown'` (try `.mode()`).  Is this the best approach ??"
   ]
  },
  {
   "cell_type": "code",
   "execution_count": 319,
   "metadata": {},
   "outputs": [
    {
     "name": "stderr",
     "output_type": "stream",
     "text": [
      "/Users/felipevallejomonsalve/opt/anaconda3/envs/dataScience/lib/python3.7/site-packages/ipykernel_launcher.py:63: SettingWithCopyWarning:\n",
      "\n",
      "\n",
      "A value is trying to be set on a copy of a slice from a DataFrame.\n",
      "Try using .loc[row_indexer,col_indexer] = value instead\n",
      "\n",
      "See the caveats in the documentation: http://pandas.pydata.org/pandas-docs/stable/user_guide/indexing.html#returning-a-view-versus-a-copy\n",
      "\n"
     ]
    },
    {
     "name": "stdout",
     "output_type": "stream",
     "text": [
      "Labeled and imputed features:\n",
      "Logistic Regression AUC score: 0.7561339888652556\n",
      "random forest AUC score: 0.6678735117836899\n",
      "Training model. Hold on a minute to see the validation score\n",
      "lightbgm AUC score: 0.8193574340755204\n",
      "feature_importance: [12 24 63 20 24 26 26]\n",
      "Training model.\n",
      "XGBoost AUC score: 0.7724893553548666\n"
     ]
    },
    {
     "data": {
      "text/html": [
       "<div>\n",
       "<style scoped>\n",
       "    .dataframe tbody tr th:only-of-type {\n",
       "        vertical-align: middle;\n",
       "    }\n",
       "\n",
       "    .dataframe tbody tr th {\n",
       "        vertical-align: top;\n",
       "    }\n",
       "\n",
       "    .dataframe thead th {\n",
       "        text-align: right;\n",
       "    }\n",
       "</style>\n",
       "<table border=\"1\" class=\"dataframe\">\n",
       "  <thead>\n",
       "    <tr style=\"text-align: right;\">\n",
       "      <th></th>\n",
       "      <th>sex</th>\n",
       "      <th>anatom_site_general_challenge</th>\n",
       "      <th>num_images</th>\n",
       "      <th>age_approx</th>\n",
       "      <th>min_age</th>\n",
       "      <th>max_age</th>\n",
       "      <th>age_span</th>\n",
       "    </tr>\n",
       "  </thead>\n",
       "  <tbody>\n",
       "    <tr>\n",
       "      <th>22826</th>\n",
       "      <td>1</td>\n",
       "      <td>2</td>\n",
       "      <td>32.0</td>\n",
       "      <td>40.0</td>\n",
       "      <td>35.0</td>\n",
       "      <td>40.0</td>\n",
       "      <td>5.0</td>\n",
       "    </tr>\n",
       "  </tbody>\n",
       "</table>\n",
       "</div>"
      ],
      "text/plain": [
       "       sex  anatom_site_general_challenge  num_images  age_approx  min_age  \\\n",
       "22826    1                              2        32.0        40.0     35.0   \n",
       "\n",
       "       max_age  age_span  \n",
       "22826     40.0       5.0  "
      ]
     },
     "execution_count": 319,
     "metadata": {},
     "output_type": "execute_result"
    },
    {
     "data": {
      "image/png": "[encoded data removed]",
      "text/plain": [
       "<Figure size 432x288 with 1 Axes>"
      ]
     },
     "metadata": {},
     "output_type": "display_data"
    },
    {
     "data": {
      "image/png": "[encoded data removed]",
      "text/plain": [
       "<Figure size 432x288 with 1 Axes>"
      ]
     },
     "metadata": {},
     "output_type": "display_data"
    }
   ],
   "source": [
    "from sklearn.impute import SimpleImputer\n",
    "from sklearn import preprocessing\n",
    "from sklearn.model_selection import train_test_split\n",
    "\n",
    "# target\n",
    "cols_to_drop = ['image_name','diagnosis', 'benign_malignant','target']\n",
    "y = train.target\n",
    "X = train.drop(cols_to_drop, axis=1)\n",
    "\n",
    "#Missing values Categorcial values train\n",
    "# Fill NaN with Unknown on anatom_site_general_challenge\n",
    "mode1 = X['anatom_site_general_challenge'].mode()[0]\n",
    "X['anatom_site_general_challenge'].fillna('Unknown', inplace=True)\n",
    "# Fill NaN with mode on 'sex'\n",
    "mode = X['sex'].mode()[0]\n",
    "X['sex'].fillna('Unknown', inplace=True)\n",
    "\n",
    "#Add patient df to train set\n",
    "train_patients_cols_add=[\"num_images\",\"min_age\",\"max_age\",\"age_span\"]\n",
    "X =X.reset_index().merge(train_patients[train_patients_cols_add].reset_index().rename(columns={'index':\"patient_id\"}), \n",
    "                         on =[\"patient_id\"]).sort_values(by='index').set_index('index').reset_index(drop=True)\n",
    "\n",
    "#Add patient test set\n",
    "X_test=test.reset_index().merge(test_patients[train_patients_cols_add].reset_index().rename(columns={'index':\"patient_id\"}), \n",
    "                                on =[\"patient_id\"]).sort_values(by='index').set_index('index').reset_index(drop=True)\n",
    "\n",
    "\n",
    "# Fill NaN with Unknown on anatom_site_general_challenge\n",
    "X_test['anatom_site_general_challenge'].fillna('Unknown', inplace=True)\n",
    "\n",
    "\n",
    "\n",
    "# Divide data into training and validation subsets\n",
    "X_train, X_valid, y_train, y_valid = train_test_split(X, y, train_size=0.8, test_size=0.2,\n",
    "                                                      random_state=42)\n",
    "# All categorical columns\n",
    "object_cols = ['patient_id', 'sex', 'anatom_site_general_challenge']\n",
    "\n",
    "# Imputation Numerical features \n",
    "# Get names of columns with missing values\n",
    "cols_with_missing = ['num_images','age_approx', 'min_age','max_age','age_span']\n",
    "my_imputer = SimpleImputer()\n",
    "imputed_X_train = pd.DataFrame(my_imputer.fit_transform(X_train[cols_with_missing]), index=X_train.index)\n",
    "imputed_X_valid = pd.DataFrame(my_imputer.transform(X_valid[cols_with_missing]), index=X_valid.index)\n",
    "\n",
    "\n",
    "# Imputation removed column names; put them back\n",
    "imputed_X_train.columns = X_train[cols_with_missing].columns\n",
    "imputed_X_valid.columns = X_valid[cols_with_missing].columns\n",
    "\n",
    "# Columns that can be safely label encoded and Problematic columns\n",
    "label_cols = ['sex', 'anatom_site_general_challenge']\n",
    "not_label_cols = ['patient_id', 'age_approx', 'min_age','max_age','age_span','num_images']\n",
    "# Drop categorical columns that will not be encoded\n",
    "label_X_train = X_train.drop(not_label_cols, axis=1)\n",
    "label_X_valid = X_valid.drop(not_label_cols, axis=1)\n",
    "label_X_test  = X_test[label_cols]\n",
    "# Apply label encoder to bad_label_cols \n",
    "label_encoder = preprocessing.LabelEncoder()\n",
    "for col in label_cols:\n",
    "    label_X_train[col] = label_encoder.fit_transform(label_X_train[col])\n",
    "    label_X_valid[col] = label_encoder.transform(label_X_valid[col])    \n",
    "    label_X_test[col] = label_encoder.transform(label_X_test[col])    \n",
    "#Create baseline data\n",
    "baseline_train = label_X_train.join(imputed_X_train)\n",
    "baseline_valid = label_X_valid.join(imputed_X_valid)\n",
    "baseline_test = label_X_test.join(X_test[cols_with_missing])\n",
    "# Compute models\n",
    "print(\"Labeled and imputed features:\")\n",
    "lgstc, _ =train_logisticReg(baseline_train, baseline_valid, y_train, y_valid, plott=True)\n",
    "train_randomForest(baseline_train, baseline_valid, y_train, y_valid, plott=True)\n",
    "bst, _ = train_lbgm(baseline_train, baseline_valid, y_train, y_valid, plott=True, \n",
    "                    num_leaves =16)\n",
    "print(\"feature_importance:\",bst.feature_importance())\n",
    "xgbst, _ =train_xgb(baseline_train, baseline_valid, y_train, y_valid, plott=True,\n",
    "         num_round = 200,eta = 0.4, alpha=0.0, gamma=0.0, max_depth = 16)\n",
    "plot_importance( xgbst, importance_type='gain', show_values=False)\n",
    "baseline_train.head(1)"
   ]
  },
  {
   "cell_type": "markdown",
   "metadata": {},
   "source": [
    "#### Submission baseline results:"
   ]
  },
  {
   "cell_type": "code",
   "execution_count": 313,
   "metadata": {},
   "outputs": [
    {
     "data": {
      "text/html": [
       "<div>\n",
       "<style scoped>\n",
       "    .dataframe tbody tr th:only-of-type {\n",
       "        vertical-align: middle;\n",
       "    }\n",
       "\n",
       "    .dataframe tbody tr th {\n",
       "        vertical-align: top;\n",
       "    }\n",
       "\n",
       "    .dataframe thead th {\n",
       "        text-align: right;\n",
       "    }\n",
       "</style>\n",
       "<table border=\"1\" class=\"dataframe\">\n",
       "  <thead>\n",
       "    <tr style=\"text-align: right;\">\n",
       "      <th></th>\n",
       "      <th>image_name</th>\n",
       "      <th>target</th>\n",
       "    </tr>\n",
       "  </thead>\n",
       "  <tbody>\n",
       "    <tr>\n",
       "      <th>0</th>\n",
       "      <td>ISIC_0052060</td>\n",
       "      <td>0.000772</td>\n",
       "    </tr>\n",
       "    <tr>\n",
       "      <th>1</th>\n",
       "      <td>ISIC_0052349</td>\n",
       "      <td>0.000212</td>\n",
       "    </tr>\n",
       "    <tr>\n",
       "      <th>2</th>\n",
       "      <td>ISIC_0058510</td>\n",
       "      <td>0.002538</td>\n",
       "    </tr>\n",
       "    <tr>\n",
       "      <th>3</th>\n",
       "      <td>ISIC_0073313</td>\n",
       "      <td>0.000310</td>\n",
       "    </tr>\n",
       "    <tr>\n",
       "      <th>4</th>\n",
       "      <td>ISIC_0073502</td>\n",
       "      <td>0.091666</td>\n",
       "    </tr>\n",
       "  </tbody>\n",
       "</table>\n",
       "</div>"
      ],
      "text/plain": [
       "     image_name    target\n",
       "0  ISIC_0052060  0.000772\n",
       "1  ISIC_0052349  0.000212\n",
       "2  ISIC_0058510  0.002538\n",
       "3  ISIC_0073313  0.000310\n",
       "4  ISIC_0073502  0.091666"
      ]
     },
     "execution_count": 313,
     "metadata": {},
     "output_type": "execute_result"
    }
   ],
   "source": [
    "#xgboost\n",
    "d_test = xgb.DMatrix(baseline_test)\n",
    "sample_submission['target'] = xgbst.predict(d_test)[:,1]\n",
    "sample_submission.to_csv(\"../data/submission_v11.csv\", index=False)\n",
    "sample_submission.head()"
   ]
  },
  {
   "cell_type": "code",
   "execution_count": 283,
   "metadata": {},
   "outputs": [
    {
     "data": {
      "text/html": [
       "<div>\n",
       "<style scoped>\n",
       "    .dataframe tbody tr th:only-of-type {\n",
       "        vertical-align: middle;\n",
       "    }\n",
       "\n",
       "    .dataframe tbody tr th {\n",
       "        vertical-align: top;\n",
       "    }\n",
       "\n",
       "    .dataframe thead th {\n",
       "        text-align: right;\n",
       "    }\n",
       "</style>\n",
       "<table border=\"1\" class=\"dataframe\">\n",
       "  <thead>\n",
       "    <tr style=\"text-align: right;\">\n",
       "      <th></th>\n",
       "      <th>image_name</th>\n",
       "      <th>target</th>\n",
       "    </tr>\n",
       "  </thead>\n",
       "  <tbody>\n",
       "    <tr>\n",
       "      <th>0</th>\n",
       "      <td>ISIC_0052060</td>\n",
       "      <td>0.006712</td>\n",
       "    </tr>\n",
       "    <tr>\n",
       "      <th>1</th>\n",
       "      <td>ISIC_0052349</td>\n",
       "      <td>0.006308</td>\n",
       "    </tr>\n",
       "    <tr>\n",
       "      <th>2</th>\n",
       "      <td>ISIC_0058510</td>\n",
       "      <td>0.009496</td>\n",
       "    </tr>\n",
       "    <tr>\n",
       "      <th>3</th>\n",
       "      <td>ISIC_0073313</td>\n",
       "      <td>0.006706</td>\n",
       "    </tr>\n",
       "    <tr>\n",
       "      <th>4</th>\n",
       "      <td>ISIC_0073502</td>\n",
       "      <td>0.017783</td>\n",
       "    </tr>\n",
       "  </tbody>\n",
       "</table>\n",
       "</div>"
      ],
      "text/plain": [
       "     image_name    target\n",
       "0  ISIC_0052060  0.006712\n",
       "1  ISIC_0052349  0.006308\n",
       "2  ISIC_0058510  0.009496\n",
       "3  ISIC_0073313  0.006706\n",
       "4  ISIC_0073502  0.017783"
      ]
     },
     "execution_count": 283,
     "metadata": {},
     "output_type": "execute_result"
    }
   ],
   "source": [
    "#lbgm\n",
    "sample_submission['target'] = bst.predict(baseline_test)\n",
    "sample_submission.to_csv(\"../data/submission_v8.csv\", index=False)\n",
    "sample_submission.head()"
   ]
  },
  {
   "cell_type": "code",
   "execution_count": 315,
   "metadata": {},
   "outputs": [
    {
     "data": {
      "text/html": [
       "<div>\n",
       "<style scoped>\n",
       "    .dataframe tbody tr th:only-of-type {\n",
       "        vertical-align: middle;\n",
       "    }\n",
       "\n",
       "    .dataframe tbody tr th {\n",
       "        vertical-align: top;\n",
       "    }\n",
       "\n",
       "    .dataframe thead th {\n",
       "        text-align: right;\n",
       "    }\n",
       "</style>\n",
       "<table border=\"1\" class=\"dataframe\">\n",
       "  <thead>\n",
       "    <tr style=\"text-align: right;\">\n",
       "      <th></th>\n",
       "      <th>image_name</th>\n",
       "      <th>target</th>\n",
       "    </tr>\n",
       "  </thead>\n",
       "  <tbody>\n",
       "    <tr>\n",
       "      <th>0</th>\n",
       "      <td>ISIC_0052060</td>\n",
       "      <td>0.000001</td>\n",
       "    </tr>\n",
       "    <tr>\n",
       "      <th>1</th>\n",
       "      <td>ISIC_0052349</td>\n",
       "      <td>0.003218</td>\n",
       "    </tr>\n",
       "    <tr>\n",
       "      <th>2</th>\n",
       "      <td>ISIC_0058510</td>\n",
       "      <td>0.009063</td>\n",
       "    </tr>\n",
       "    <tr>\n",
       "      <th>3</th>\n",
       "      <td>ISIC_0073313</td>\n",
       "      <td>0.004611</td>\n",
       "    </tr>\n",
       "    <tr>\n",
       "      <th>4</th>\n",
       "      <td>ISIC_0073502</td>\n",
       "      <td>0.036901</td>\n",
       "    </tr>\n",
       "  </tbody>\n",
       "</table>\n",
       "</div>"
      ],
      "text/plain": [
       "     image_name    target\n",
       "0  ISIC_0052060  0.000001\n",
       "1  ISIC_0052349  0.003218\n",
       "2  ISIC_0058510  0.009063\n",
       "3  ISIC_0073313  0.004611\n",
       "4  ISIC_0073502  0.036901"
      ]
     },
     "execution_count": 315,
     "metadata": {},
     "output_type": "execute_result"
    }
   ],
   "source": [
    "#logistic regression\n",
    "sample_submission['target'] = lgstc.predict_proba(baseline_test)[:,1]\n",
    "sample_submission.to_csv(\"../data/submission_v12.csv\", index=False)\n",
    "sample_submission.head()"
   ]
  },
  {
   "cell_type": "code",
   "execution_count": 294,
   "metadata": {},
   "outputs": [
    {
     "data": {
      "text/plain": [
       "array([1.35113632e-06, 3.21778381e-03, 9.06320503e-03, ...,\n",
       "       1.38888338e-02, 2.41325179e-02, 7.87960348e-03])"
      ]
     },
     "execution_count": 294,
     "metadata": {},
     "output_type": "execute_result"
    }
   ],
   "source": [
    "lgstc.predict_proba(baseline_test)[:,1]"
   ]
  },
  {
   "cell_type": "code",
   "execution_count": 99,
   "metadata": {},
   "outputs": [
    {
     "name": "stdout",
     "output_type": "stream",
     "text": [
      "lbgm Score submission_v6.csv num_leaves 16: 0.6433\n"
     ]
    }
   ],
   "source": [
    "print(\"lbgm Score submission_v6.csv num_leaves 16: 0.6433\") "
   ]
  },
  {
   "cell_type": "code",
   "execution_count": 104,
   "metadata": {},
   "outputs": [
    {
     "name": "stdout",
     "output_type": "stream",
     "text": [
      "lbgm Score submission_v7.csv num_leaves 64: 0.6341\n"
     ]
    }
   ],
   "source": [
    "print(\"lbgm Score submission_v7.csv num_leaves 64: 0.6341\") "
   ]
  },
  {
   "cell_type": "code",
   "execution_count": 259,
   "metadata": {},
   "outputs": [
    {
     "name": "stdout",
     "output_type": "stream",
     "text": [
      "lbgm Score submission_v8.csv num_leaves 8: 0.6129\n"
     ]
    }
   ],
   "source": [
    "print(\"lbgm Score submission_v8.csv num_leaves 8: 0.6129\") "
   ]
  },
  {
   "cell_type": "code",
   "execution_count": 311,
   "metadata": {},
   "outputs": [
    {
     "name": "stdout",
     "output_type": "stream",
     "text": [
      "XGBoost Score submission_v9.csv (eta = 0.1, alpha=0.1, gamma=0.4, max_depth = 8): 0.6389, valid:0.81409\n"
     ]
    }
   ],
   "source": [
    "print(\"XGBoost Score submission_v9.csv (eta = 0.1, alpha=0.1, gamma=0.4, max_depth = 8): 0.6389, valid:0.81409\")"
   ]
  },
  {
   "cell_type": "code",
   "execution_count": 310,
   "metadata": {},
   "outputs": [
    {
     "name": "stdout",
     "output_type": "stream",
     "text": [
      "XGBoost Score submission_v10.csv (eta = 0.4, alpha=0.1, gamma=0.2, max_depth = 4): 0.6182 valid:0.81077\n"
     ]
    }
   ],
   "source": [
    "print(\"XGBoost Score submission_v10.csv (eta = 0.4, alpha=0.1, gamma=0.2, max_depth = 4): 0.6182 valid:0.81077\")"
   ]
  },
  {
   "cell_type": "code",
   "execution_count": 314,
   "metadata": {},
   "outputs": [
    {
     "name": "stdout",
     "output_type": "stream",
     "text": [
      "XGBoost Score submission_v11.csv (eta = 0.4, alpha=0.1, gamma=0.2, max_depth = 4): 0.6058 valid:0.7867655\n"
     ]
    }
   ],
   "source": [
    "print(\"XGBoost Score submission_v11.csv (eta = 0.4, alpha=0.1, gamma=0.2, max_depth = 4): 0.6058 valid:0.7867655\")\n"
   ]
  },
  {
   "cell_type": "markdown",
   "metadata": {},
   "source": [
    "This is slighty less than when the encoding is use with pandas `factorize()`. Let's try using only the patient\n",
    "\n",
    "### Just patient"
   ]
  },
  {
   "cell_type": "code",
   "execution_count": 222,
   "metadata": {},
   "outputs": [
    {
     "name": "stdout",
     "output_type": "stream",
     "text": [
      "Logistic Regression AUC score: 0.749636138457227\n",
      "random forest AUC score: 0.7258711691223284\n",
      "Training model.\n",
      "XGBoost AUC score: 0.7688074768865591\n",
      "Training model. Hold on a minute to see the validation score\n",
      "lightbgm AUC score: 0.8105111108528245\n",
      "feature_importance: [82 42 40 31]\n"
     ]
    },
    {
     "data": {
      "text/html": [
       "<div>\n",
       "<style scoped>\n",
       "    .dataframe tbody tr th:only-of-type {\n",
       "        vertical-align: middle;\n",
       "    }\n",
       "\n",
       "    .dataframe tbody tr th {\n",
       "        vertical-align: top;\n",
       "    }\n",
       "\n",
       "    .dataframe thead th {\n",
       "        text-align: right;\n",
       "    }\n",
       "</style>\n",
       "<table border=\"1\" class=\"dataframe\">\n",
       "  <thead>\n",
       "    <tr style=\"text-align: right;\">\n",
       "      <th></th>\n",
       "      <th>num_images</th>\n",
       "      <th>min_age</th>\n",
       "      <th>max_age</th>\n",
       "      <th>age_span</th>\n",
       "    </tr>\n",
       "  </thead>\n",
       "  <tbody>\n",
       "    <tr>\n",
       "      <th>22826</th>\n",
       "      <td>32</td>\n",
       "      <td>35.0</td>\n",
       "      <td>40.0</td>\n",
       "      <td>5.0</td>\n",
       "    </tr>\n",
       "    <tr>\n",
       "      <th>20292</th>\n",
       "      <td>7</td>\n",
       "      <td>55.0</td>\n",
       "      <td>60.0</td>\n",
       "      <td>5.0</td>\n",
       "    </tr>\n",
       "  </tbody>\n",
       "</table>\n",
       "</div>"
      ],
      "text/plain": [
       "       num_images  min_age  max_age  age_span\n",
       "22826          32     35.0     40.0       5.0\n",
       "20292           7     55.0     60.0       5.0"
      ]
     },
     "execution_count": 222,
     "metadata": {},
     "output_type": "execute_result"
    },
    {
     "data": {
      "image/png": "[encoded data removed]",
      "text/plain": [
       "<Figure size 432x288 with 1 Axes>"
      ]
     },
     "metadata": {},
     "output_type": "display_data"
    }
   ],
   "source": [
    "feature_cols = [\"num_images\", \"min_age\", \"max_age\", \"age_span\"]\n",
    "train_logisticReg(imputed_X_train, imputed_X_valid, y_train, y_valid,plott=True, feature_cols =feature_cols )\n",
    "train_randomForest(imputed_X_train, imputed_X_valid, y_train, y_valid,plott=True, feature_cols =feature_cols )\n",
    "train_xgb(imputed_X_train, imputed_X_valid, y_train, y_valid,plott=True, feature_cols =feature_cols )\n",
    "bst, _ = train_lbgm(imputed_X_train, imputed_X_valid, y_train, y_valid,plott=True, feature_cols =feature_cols, num_leaves =16 )\n",
    "print(\"feature_importance:\",bst.feature_importance())\n",
    "X_train[feature_cols].head(2)"
   ]
  },
  {
   "cell_type": "markdown",
   "metadata": {},
   "source": [
    "#### Submission patient - lbgm"
   ]
  },
  {
   "cell_type": "code",
   "execution_count": 92,
   "metadata": {},
   "outputs": [
    {
     "data": {
      "text/html": [
       "<div>\n",
       "<style scoped>\n",
       "    .dataframe tbody tr th:only-of-type {\n",
       "        vertical-align: middle;\n",
       "    }\n",
       "\n",
       "    .dataframe tbody tr th {\n",
       "        vertical-align: top;\n",
       "    }\n",
       "\n",
       "    .dataframe thead th {\n",
       "        text-align: right;\n",
       "    }\n",
       "</style>\n",
       "<table border=\"1\" class=\"dataframe\">\n",
       "  <thead>\n",
       "    <tr style=\"text-align: right;\">\n",
       "      <th></th>\n",
       "      <th>image_name</th>\n",
       "      <th>target</th>\n",
       "    </tr>\n",
       "  </thead>\n",
       "  <tbody>\n",
       "    <tr>\n",
       "      <th>0</th>\n",
       "      <td>ISIC_0052060</td>\n",
       "      <td>0.005746</td>\n",
       "    </tr>\n",
       "    <tr>\n",
       "      <th>1</th>\n",
       "      <td>ISIC_0052349</td>\n",
       "      <td>0.005232</td>\n",
       "    </tr>\n",
       "    <tr>\n",
       "      <th>2</th>\n",
       "      <td>ISIC_0058510</td>\n",
       "      <td>0.009607</td>\n",
       "    </tr>\n",
       "    <tr>\n",
       "      <th>3</th>\n",
       "      <td>ISIC_0073313</td>\n",
       "      <td>0.006233</td>\n",
       "    </tr>\n",
       "    <tr>\n",
       "      <th>4</th>\n",
       "      <td>ISIC_0073502</td>\n",
       "      <td>0.017541</td>\n",
       "    </tr>\n",
       "  </tbody>\n",
       "</table>\n",
       "</div>"
      ],
      "text/plain": [
       "     image_name    target\n",
       "0  ISIC_0052060  0.005746\n",
       "1  ISIC_0052349  0.005232\n",
       "2  ISIC_0058510  0.009607\n",
       "3  ISIC_0073313  0.006233\n",
       "4  ISIC_0073502  0.017541"
      ]
     },
     "execution_count": 92,
     "metadata": {},
     "output_type": "execute_result"
    }
   ],
   "source": [
    "sample_submission['target'] = bst.predict(X_test[feature_cols].astype(int))\n",
    "sample_submission.to_csv(\"../data/submission_v5.csv\", index=False)\n",
    "sample_submission.head()"
   ]
  },
  {
   "cell_type": "code",
   "execution_count": 98,
   "metadata": {},
   "outputs": [
    {
     "name": "stdout",
     "output_type": "stream",
     "text": [
      "Score submission_v5.csv: 0.6336\n"
     ]
    }
   ],
   "source": [
    "print(\"Score submission_v5.csv: 0.6336\")"
   ]
  },
  {
   "cell_type": "markdown",
   "metadata": {},
   "source": [
    "### One hot enconding"
   ]
  },
  {
   "cell_type": "code",
   "execution_count": 318,
   "metadata": {},
   "outputs": [
    {
     "name": "stdout",
     "output_type": "stream",
     "text": [
      "Logistic Regression AUC score: 0.6044376256726758\n",
      "random forest AUC score: 0.6007686615448391\n",
      "Training model. Hold on a minute to see the validation score\n",
      "lightbgm AUC score: 0.6014169614364879\n",
      "Training model.\n",
      "XGBoost AUC score: 0.6013730526788862\n"
     ]
    },
    {
     "data": {
      "text/html": [
       "<div>\n",
       "<style scoped>\n",
       "    .dataframe tbody tr th:only-of-type {\n",
       "        vertical-align: middle;\n",
       "    }\n",
       "\n",
       "    .dataframe tbody tr th {\n",
       "        vertical-align: top;\n",
       "    }\n",
       "\n",
       "    .dataframe thead th {\n",
       "        text-align: right;\n",
       "    }\n",
       "</style>\n",
       "<table border=\"1\" class=\"dataframe\">\n",
       "  <thead>\n",
       "    <tr style=\"text-align: right;\">\n",
       "      <th></th>\n",
       "      <th>sex_0</th>\n",
       "      <th>sex_1</th>\n",
       "      <th>sex_2</th>\n",
       "      <th>anatom_site_general_challenge_0</th>\n",
       "      <th>anatom_site_general_challenge_1</th>\n",
       "      <th>anatom_site_general_challenge_2</th>\n",
       "      <th>anatom_site_general_challenge_3</th>\n",
       "      <th>anatom_site_general_challenge_4</th>\n",
       "      <th>anatom_site_general_challenge_5</th>\n",
       "      <th>anatom_site_general_challenge_6</th>\n",
       "    </tr>\n",
       "  </thead>\n",
       "  <tbody>\n",
       "    <tr>\n",
       "      <th>22826</th>\n",
       "      <td>0.0</td>\n",
       "      <td>1.0</td>\n",
       "      <td>0.0</td>\n",
       "      <td>0.0</td>\n",
       "      <td>0.0</td>\n",
       "      <td>1.0</td>\n",
       "      <td>0.0</td>\n",
       "      <td>0.0</td>\n",
       "      <td>0.0</td>\n",
       "      <td>0.0</td>\n",
       "    </tr>\n",
       "  </tbody>\n",
       "</table>\n",
       "</div>"
      ],
      "text/plain": [
       "       sex_0  sex_1  sex_2  anatom_site_general_challenge_0  \\\n",
       "22826    0.0    1.0    0.0                              0.0   \n",
       "\n",
       "       anatom_site_general_challenge_1  anatom_site_general_challenge_2  \\\n",
       "22826                              0.0                              1.0   \n",
       "\n",
       "       anatom_site_general_challenge_3  anatom_site_general_challenge_4  \\\n",
       "22826                              0.0                              0.0   \n",
       "\n",
       "       anatom_site_general_challenge_5  anatom_site_general_challenge_6  \n",
       "22826                              0.0                              0.0  "
      ]
     },
     "execution_count": 318,
     "metadata": {},
     "output_type": "execute_result"
    }
   ],
   "source": [
    " # Apply one-hot encoder to each column with categorical data\n",
    "label_cols = ['sex', 'anatom_site_general_challenge']\n",
    "OH_encoder = preprocessing.OneHotEncoder( sparse=False)\n",
    "OH_X_train = pd.DataFrame(OH_encoder.fit_transform(X_train[label_cols]))\n",
    "OH_X_valid = pd.DataFrame(OH_encoder.transform(X_valid[label_cols]))\n",
    "# One-hot encoding removed index; put it back\n",
    "OH_X_train.index = X_train.index\n",
    "OH_X_valid.index = X_valid.index\n",
    "#add column names\n",
    "oh_cols = []\n",
    "for col in label_cols:\n",
    "    for index in range(len(X_train[col].value_counts().index)):  \n",
    "        oh_cols.append(col+'_'+str(index)) \n",
    "OH_X_train.columns = oh_cols\n",
    "OH_X_valid.columns = oh_cols\n",
    "\n",
    "train_logisticReg(OH_X_train, OH_X_valid, y_train, y_valid,plott=False)\n",
    "train_randomForest(OH_X_train, OH_X_valid, y_train, y_valid,plott=False)\n",
    "train_lbgm(OH_X_train, OH_X_valid, y_train, y_valid,plott=False,feature_cols=OH_X_train.columns)\n",
    "xgbst, _ =train_xgb(OH_X_train, OH_X_valid, y_train, y_valid, plott=False,\n",
    "         num_round = 200,eta = 0.4, alpha=0.0, gamma=0.0, max_depth = 8)\n",
    "#plot_importance( xgbst, importance_type='gain', show_values=False)\n",
    "OH_X_train.head(1)"
   ]
  },
  {
   "cell_type": "markdown",
   "metadata": {},
   "source": [
    "Compare with just lable encode alone"
   ]
  },
  {
   "cell_type": "code",
   "execution_count": 321,
   "metadata": {},
   "outputs": [
    {
     "ename": "TypeError",
     "evalue": "train_logisticReg() missing 2 required positional arguments: 'y_train' and 'y_valid'",
     "output_type": "error",
     "traceback": [
      "\u001b[0;31m---------------------------------------------------------------------------\u001b[0m",
      "\u001b[0;31mTypeError\u001b[0m                                 Traceback (most recent call last)",
      "\u001b[0;32m<ipython-input-321-746faee8b681>\u001b[0m in \u001b[0;36m<module>\u001b[0;34m\u001b[0m\n\u001b[1;32m      2\u001b[0m \u001b[0mbaseline_train\u001b[0m \u001b[0;34m=\u001b[0m \u001b[0mimputed_X_train\u001b[0m\u001b[0;34m.\u001b[0m\u001b[0mjoin\u001b[0m\u001b[0;34m(\u001b[0m\u001b[0mOH_X_train\u001b[0m\u001b[0;34m)\u001b[0m\u001b[0;34m,\u001b[0m\u001b[0;34m\u001b[0m\u001b[0;34m\u001b[0m\u001b[0m\n\u001b[1;32m      3\u001b[0m \u001b[0mbaseline_valid\u001b[0m \u001b[0;34m=\u001b[0m \u001b[0mimputed_X_valid\u001b[0m\u001b[0;34m.\u001b[0m\u001b[0mjoin\u001b[0m\u001b[0;34m(\u001b[0m\u001b[0mOH_X_valid\u001b[0m\u001b[0;34m)\u001b[0m\u001b[0;34m,\u001b[0m\u001b[0;34m\u001b[0m\u001b[0;34m\u001b[0m\u001b[0m\n\u001b[0;32m----> 4\u001b[0;31m \u001b[0mtrain_logisticReg\u001b[0m \u001b[0;34m(\u001b[0m\u001b[0my_train\u001b[0m\u001b[0;34m,\u001b[0m \u001b[0my_valid\u001b[0m\u001b[0;34m,\u001b[0m\u001b[0mplott\u001b[0m\u001b[0;34m=\u001b[0m\u001b[0;32mFalse\u001b[0m\u001b[0;34m)\u001b[0m\u001b[0;34m\u001b[0m\u001b[0;34m\u001b[0m\u001b[0m\n\u001b[0m\u001b[1;32m      5\u001b[0m \u001b[0mimputed_X_train\u001b[0m\u001b[0;34m.\u001b[0m\u001b[0mjoin\u001b[0m\u001b[0;34m(\u001b[0m\u001b[0mOH_X_train\u001b[0m\u001b[0;34m)\u001b[0m\u001b[0;34m.\u001b[0m\u001b[0mhead\u001b[0m\u001b[0;34m(\u001b[0m\u001b[0;36m2\u001b[0m\u001b[0;34m)\u001b[0m\u001b[0;34m\u001b[0m\u001b[0;34m\u001b[0m\u001b[0m\n",
      "\u001b[0;31mTypeError\u001b[0m: train_logisticReg() missing 2 required positional arguments: 'y_train' and 'y_valid'"
     ]
    }
   ],
   "source": [
    "feature_cols = imputed_X_train.join(OH_X_train).columns\n",
    "baseline_train = imputed_X_train.join(OH_X_train), \n",
    "baseline_train =imputed_X_valid.join(OH_X_valid),\n",
    "train_logisticReg ( \n",
    "                   y_train, y_valid,plott=False)\n",
    "imputed_X_train.join(OH_X_train).head(2)"
   ]
  },
  {
   "cell_type": "code",
   "execution_count": 154,
   "metadata": {},
   "outputs": [
    {
     "name": "stdout",
     "output_type": "stream",
     "text": [
      "Training model. Hold on a minute to see the validation score\n",
      "lightbgm AUC score: 0.8131365962705968\n",
      "feature_importance: [16 56 21 23 17  0  6  1  3  7  5  1  0  5  4]\n"
     ]
    },
    {
     "data": {
      "text/html": [
       "<div>\n",
       "<style scoped>\n",
       "    .dataframe tbody tr th:only-of-type {\n",
       "        vertical-align: middle;\n",
       "    }\n",
       "\n",
       "    .dataframe tbody tr th {\n",
       "        vertical-align: top;\n",
       "    }\n",
       "\n",
       "    .dataframe thead th {\n",
       "        text-align: right;\n",
       "    }\n",
       "</style>\n",
       "<table border=\"1\" class=\"dataframe\">\n",
       "  <thead>\n",
       "    <tr style=\"text-align: right;\">\n",
       "      <th></th>\n",
       "      <th>age_approx</th>\n",
       "      <th>num_images</th>\n",
       "      <th>min_age</th>\n",
       "      <th>max_age</th>\n",
       "      <th>age_span</th>\n",
       "      <th>sex_0</th>\n",
       "      <th>sex_1</th>\n",
       "      <th>sex_2</th>\n",
       "      <th>anatom_site_general_challenge_0</th>\n",
       "      <th>anatom_site_general_challenge_1</th>\n",
       "      <th>anatom_site_general_challenge_2</th>\n",
       "      <th>anatom_site_general_challenge_3</th>\n",
       "      <th>anatom_site_general_challenge_4</th>\n",
       "      <th>anatom_site_general_challenge_5</th>\n",
       "      <th>anatom_site_general_challenge_6</th>\n",
       "    </tr>\n",
       "  </thead>\n",
       "  <tbody>\n",
       "    <tr>\n",
       "      <th>22826</th>\n",
       "      <td>40.0</td>\n",
       "      <td>32</td>\n",
       "      <td>35.0</td>\n",
       "      <td>40.0</td>\n",
       "      <td>5.0</td>\n",
       "      <td>0.0</td>\n",
       "      <td>1.0</td>\n",
       "      <td>0.0</td>\n",
       "      <td>0.0</td>\n",
       "      <td>0.0</td>\n",
       "      <td>1.0</td>\n",
       "      <td>0.0</td>\n",
       "      <td>0.0</td>\n",
       "      <td>0.0</td>\n",
       "      <td>0.0</td>\n",
       "    </tr>\n",
       "  </tbody>\n",
       "</table>\n",
       "</div>"
      ],
      "text/plain": [
       "       age_approx  num_images  min_age  max_age  age_span  sex_0  sex_1  \\\n",
       "22826        40.0          32     35.0     40.0       5.0    0.0    1.0   \n",
       "\n",
       "       sex_2  anatom_site_general_challenge_0  \\\n",
       "22826    0.0                              0.0   \n",
       "\n",
       "       anatom_site_general_challenge_1  anatom_site_general_challenge_2  \\\n",
       "22826                              0.0                              1.0   \n",
       "\n",
       "       anatom_site_general_challenge_3  anatom_site_general_challenge_4  \\\n",
       "22826                              0.0                              0.0   \n",
       "\n",
       "       anatom_site_general_challenge_5  anatom_site_general_challenge_6  \n",
       "22826                              0.0                              0.0  "
      ]
     },
     "execution_count": 154,
     "metadata": {},
     "output_type": "execute_result"
    }
   ],
   "source": [
    "bst, _ = train_lbgm(X_train.join(OH_X_train).drop(columns=cols_low_card), \n",
    "                   X_valid.join(OH_X_valid).drop(columns=cols_low_card), \n",
    "                   y_train, y_valid,plott=False, feature_cols =X_train.join(OH_X_train).drop(columns=cols_low_card).columns )\n",
    "print(\"feature_importance:\",bst.feature_importance())\n",
    "X_train.join(OH_X_train).drop(columns=cols_low_card).head(1)"
   ]
  },
  {
   "cell_type": "code",
   "execution_count": null,
   "metadata": {},
   "outputs": [],
   "source": []
  },
  {
   "cell_type": "markdown",
   "metadata": {},
   "source": [
    "### 4. Count Encoding"
   ]
  },
  {
   "cell_type": "code",
   "execution_count": 324,
   "metadata": {},
   "outputs": [
    {
     "data": {
      "text/html": [
       "<div>\n",
       "<style scoped>\n",
       "    .dataframe tbody tr th:only-of-type {\n",
       "        vertical-align: middle;\n",
       "    }\n",
       "\n",
       "    .dataframe tbody tr th {\n",
       "        vertical-align: top;\n",
       "    }\n",
       "\n",
       "    .dataframe thead th {\n",
       "        text-align: right;\n",
       "    }\n",
       "</style>\n",
       "<table border=\"1\" class=\"dataframe\">\n",
       "  <thead>\n",
       "    <tr style=\"text-align: right;\">\n",
       "      <th></th>\n",
       "      <th>patient_id_count</th>\n",
       "      <th>sex_count</th>\n",
       "      <th>anatom_site_general_challenge_count</th>\n",
       "    </tr>\n",
       "  </thead>\n",
       "  <tbody>\n",
       "    <tr>\n",
       "      <th>22826</th>\n",
       "      <td>32</td>\n",
       "      <td>15981</td>\n",
       "      <td>8417</td>\n",
       "    </tr>\n",
       "    <tr>\n",
       "      <th>20292</th>\n",
       "      <td>7</td>\n",
       "      <td>15981</td>\n",
       "      <td>16845</td>\n",
       "    </tr>\n",
       "    <tr>\n",
       "      <th>29431</th>\n",
       "      <td>40</td>\n",
       "      <td>15981</td>\n",
       "      <td>4983</td>\n",
       "    </tr>\n",
       "  </tbody>\n",
       "</table>\n",
       "</div>"
      ],
      "text/plain": [
       "       patient_id_count  sex_count  anatom_site_general_challenge_count\n",
       "22826                32      15981                                 8417\n",
       "20292                 7      15981                                16845\n",
       "29431                40      15981                                 4983"
      ]
     },
     "execution_count": 324,
     "metadata": {},
     "output_type": "execute_result"
    }
   ],
   "source": [
    "import category_encoders as ce\n",
    "\n",
    "label_cols = ['patient_id', 'sex', 'anatom_site_general_challenge']\n",
    "\n",
    "\n",
    "# Create the count encoder\n",
    "count_enc = ce.CountEncoder(cols=label_cols)\n",
    "\n",
    "# Learn encoding from the training set\n",
    "count_encoded = count_enc.fit(X[label_cols])\n",
    "\n",
    "# Apply encoding to the train and validation sets as new columns\n",
    "# Make sure to add `_count` as a suffix to the new columns\n",
    "\n",
    "count_X_train = count_enc.transform(X_train[label_cols]).add_suffix('_count')\n",
    "count_X_valid = count_enc.transform(X_valid[label_cols]).add_suffix('_count')\n",
    "count_X_train.head(3)"
   ]
  },
  {
   "cell_type": "code",
   "execution_count": 325,
   "metadata": {},
   "outputs": [
    {
     "name": "stdout",
     "output_type": "stream",
     "text": [
      "AUC from (OneHot Encode):\n",
      "random forest AUC score: 0.7644650299031553\n",
      "Logistic Regression AUC score: 0.7136768031325024\n",
      "Training model. Hold on a minute to see the validation score\n",
      "lightbgm AUC score: 0.7761996453722106\n"
     ]
    }
   ],
   "source": [
    "print(\"AUC from (OneHot Encode):\")\n",
    "_ = train_randomForest(count_X_train, count_X_valid, y_train, y_valid )\n",
    "_ = train_logisticReg(count_X_train, count_X_valid, y_train, y_valid )\n",
    "_ = train_lbgm(count_X_train, count_X_valid, y_train, y_valid, feature_cols = count_X_train.columns, num_leaves=16 )"
   ]
  },
  {
   "cell_type": "code",
   "execution_count": 181,
   "metadata": {},
   "outputs": [
    {
     "name": "stdout",
     "output_type": "stream",
     "text": [
      "Training model. Hold on a minute to see the validation score\n",
      "lightbgm AUC score: 0.7692278386688931\n"
     ]
    },
    {
     "data": {
      "text/html": [
       "<div>\n",
       "<style scoped>\n",
       "    .dataframe tbody tr th:only-of-type {\n",
       "        vertical-align: middle;\n",
       "    }\n",
       "\n",
       "    .dataframe tbody tr th {\n",
       "        vertical-align: top;\n",
       "    }\n",
       "\n",
       "    .dataframe thead th {\n",
       "        text-align: right;\n",
       "    }\n",
       "</style>\n",
       "<table border=\"1\" class=\"dataframe\">\n",
       "  <thead>\n",
       "    <tr style=\"text-align: right;\">\n",
       "      <th></th>\n",
       "      <th>age_approx</th>\n",
       "      <th>num_images</th>\n",
       "      <th>min_age</th>\n",
       "      <th>max_age</th>\n",
       "      <th>age_span</th>\n",
       "      <th>patient_id_count</th>\n",
       "      <th>sex_count</th>\n",
       "      <th>anatom_site_general_challenge_count</th>\n",
       "    </tr>\n",
       "  </thead>\n",
       "  <tbody>\n",
       "    <tr>\n",
       "      <th>22826</th>\n",
       "      <td>40.0</td>\n",
       "      <td>32</td>\n",
       "      <td>35.0</td>\n",
       "      <td>40.0</td>\n",
       "      <td>5.0</td>\n",
       "      <td>32</td>\n",
       "      <td>15981</td>\n",
       "      <td>8417</td>\n",
       "    </tr>\n",
       "  </tbody>\n",
       "</table>\n",
       "</div>"
      ],
      "text/plain": [
       "       age_approx  num_images  min_age  max_age  age_span  patient_id_count  \\\n",
       "22826        40.0          32     35.0     40.0       5.0                32   \n",
       "\n",
       "       sex_count  anatom_site_general_challenge_count  \n",
       "22826      15981                                 8417  "
      ]
     },
     "execution_count": 181,
     "metadata": {},
     "output_type": "execute_result"
    }
   ],
   "source": [
    "_, _ = train_lbgm(X_train.join(count_X_train).drop(columns=label_cols), \n",
    "                   X_valid.join(count_X_valid).drop(columns=label_cols), \n",
    "                   y_train, y_valid,plott=False)\n",
    "X_train.join(count_X_train).drop(columns=cols_low_card).head(1)"
   ]
  },
  {
   "cell_type": "markdown",
   "metadata": {},
   "source": [
    "### 4.  Add interaction features\n",
    "\n",
    "Add interaction features for each pair of categorical features (sex, anatom_site_general_challenge ). Iterate through the pairs of features is with `itertools.combinations`. For each new column, join the values as strings with an underscore, so 13 and 47 would become `\"13_47\"`. Label encode the values."
   ]
  },
  {
   "cell_type": "code",
   "execution_count": 326,
   "metadata": {},
   "outputs": [
    {
     "data": {
      "text/html": [
       "<div>\n",
       "<style scoped>\n",
       "    .dataframe tbody tr th:only-of-type {\n",
       "        vertical-align: middle;\n",
       "    }\n",
       "\n",
       "    .dataframe tbody tr th {\n",
       "        vertical-align: top;\n",
       "    }\n",
       "\n",
       "    .dataframe thead th {\n",
       "        text-align: right;\n",
       "    }\n",
       "</style>\n",
       "<table border=\"1\" class=\"dataframe\">\n",
       "  <thead>\n",
       "    <tr style=\"text-align: right;\">\n",
       "      <th></th>\n",
       "      <th>sex_anatom_site_general_challenge</th>\n",
       "    </tr>\n",
       "  </thead>\n",
       "  <tbody>\n",
       "    <tr>\n",
       "      <th>22826</th>\n",
       "      <td>6</td>\n",
       "    </tr>\n",
       "  </tbody>\n",
       "</table>\n",
       "</div>"
      ],
      "text/plain": [
       "       sex_anatom_site_general_challenge\n",
       "22826                                  6"
      ]
     },
     "execution_count": 326,
     "metadata": {},
     "output_type": "execute_result"
    }
   ],
   "source": [
    "import itertools\n",
    "\n",
    "cat_features = ['sex', 'anatom_site_general_challenge']\n",
    "def create_interactions(train, valid, cat_features): \n",
    "    interactions_train = pd.DataFrame(index=train.index)\n",
    "    interactions_valid = pd.DataFrame(index=valid.index)\n",
    "    # Iterate through each pair of features, combine them into interaction features\n",
    "    encoder = preprocessing.LabelEncoder()\n",
    "    for col1, col2 in itertools.combinations(cat_features,2):\n",
    "        new_col = col1 +'_'+ col2 \n",
    "        new_vals = train[col1].map(str) + '_' + train[col2].map(str)\n",
    "        interactions_train[new_col] = encoder.fit_transform(new_vals)\n",
    "        new_vals = valid[col1].map(str) + '_' + valid[col2].map(str)\n",
    "        interactions_valid[new_col] = encoder.transform(new_vals)\n",
    "    return interactions_train, interactions_valid\n",
    "interactions_train, interactions_valid = create_interactions(X_train,X_valid, cat_features) \n",
    "interactions_train.head(1)"
   ]
  },
  {
   "cell_type": "markdown",
   "metadata": {},
   "source": [
    "## Generate Baseline data"
   ]
  },
  {
   "cell_type": "markdown",
   "metadata": {},
   "source": [
    "1. Try all features"
   ]
  },
  {
   "cell_type": "code",
   "execution_count": 327,
   "metadata": {},
   "outputs": [
    {
     "name": "stdout",
     "output_type": "stream",
     "text": [
      "AUC from Approach 2 (Imputation):\n",
      "Logistic Regression AUC score: 0.7561546518100093\n",
      "random forest AUC score: 0.7050041777891424\n",
      "Training model. Hold on a minute to see the validation score\n",
      "lightbgm AUC score: 0.8200825742929723\n",
      "feature_importance: [68 26 24 22 25  4 18 23]\n"
     ]
    },
    {
     "data": {
      "text/html": [
       "<div>\n",
       "<style scoped>\n",
       "    .dataframe tbody tr th:only-of-type {\n",
       "        vertical-align: middle;\n",
       "    }\n",
       "\n",
       "    .dataframe tbody tr th {\n",
       "        vertical-align: top;\n",
       "    }\n",
       "\n",
       "    .dataframe thead th {\n",
       "        text-align: right;\n",
       "    }\n",
       "</style>\n",
       "<table border=\"1\" class=\"dataframe\">\n",
       "  <thead>\n",
       "    <tr style=\"text-align: right;\">\n",
       "      <th></th>\n",
       "      <th>num_images</th>\n",
       "      <th>age_approx</th>\n",
       "      <th>min_age</th>\n",
       "      <th>max_age</th>\n",
       "      <th>age_span</th>\n",
       "      <th>sex</th>\n",
       "      <th>anatom_site_general_challenge</th>\n",
       "      <th>sex_anatom_site_general_challenge</th>\n",
       "    </tr>\n",
       "  </thead>\n",
       "  <tbody>\n",
       "    <tr>\n",
       "      <th>22826</th>\n",
       "      <td>32.0</td>\n",
       "      <td>40.0</td>\n",
       "      <td>35.0</td>\n",
       "      <td>40.0</td>\n",
       "      <td>5.0</td>\n",
       "      <td>1</td>\n",
       "      <td>2</td>\n",
       "      <td>6</td>\n",
       "    </tr>\n",
       "    <tr>\n",
       "      <th>20292</th>\n",
       "      <td>7.0</td>\n",
       "      <td>60.0</td>\n",
       "      <td>55.0</td>\n",
       "      <td>60.0</td>\n",
       "      <td>5.0</td>\n",
       "      <td>1</td>\n",
       "      <td>5</td>\n",
       "      <td>9</td>\n",
       "    </tr>\n",
       "    <tr>\n",
       "      <th>29431</th>\n",
       "      <td>40.0</td>\n",
       "      <td>65.0</td>\n",
       "      <td>65.0</td>\n",
       "      <td>65.0</td>\n",
       "      <td>0.0</td>\n",
       "      <td>1</td>\n",
       "      <td>6</td>\n",
       "      <td>10</td>\n",
       "    </tr>\n",
       "  </tbody>\n",
       "</table>\n",
       "</div>"
      ],
      "text/plain": [
       "       num_images  age_approx  min_age  max_age  age_span  sex  \\\n",
       "22826        32.0        40.0     35.0     40.0       5.0    1   \n",
       "20292         7.0        60.0     55.0     60.0       5.0    1   \n",
       "29431        40.0        65.0     65.0     65.0       0.0    1   \n",
       "\n",
       "       anatom_site_general_challenge  sex_anatom_site_general_challenge  \n",
       "22826                              2                                  6  \n",
       "20292                              5                                  9  \n",
       "29431                              6                                 10  "
      ]
     },
     "execution_count": 327,
     "metadata": {},
     "output_type": "execute_result"
    }
   ],
   "source": [
    "\n",
    "#add imputed and categorical label\n",
    "baseline_train = imputed_X_train.join(label_X_train)\n",
    "baseline_valid = imputed_X_valid.join(label_X_valid)\n",
    "#add interactions\n",
    "baseline_train = baseline_train.join(interactions_train)\n",
    "baseline_valid = baseline_valid.join(interactions_valid)\n",
    "\n",
    "#baseline_train.drop(columns= cols_to_keep, inplace=True)\n",
    "#baseline_valid.drop(columns=cols_to_keep, inplace=True)\n",
    "print(\"AUC from Approach 2 (Imputation):\")\n",
    "train_logisticReg(baseline_train, baseline_valid, y_train, y_valid)\n",
    "train_randomForest(baseline_train, baseline_valid, y_train, y_valid)\n",
    "bst, _ = train_lbgm(baseline_train, baseline_valid, y_train, y_valid, feature_cols = baseline_train.columns)\n",
    "print(\"feature_importance:\",bst.feature_importance())\n",
    "baseline_train.head(3)"
   ]
  },
  {
   "cell_type": "markdown",
   "metadata": {},
   "source": [
    "2. Try only imputed"
   ]
  },
  {
   "cell_type": "markdown",
   "metadata": {},
   "source": [
    "2. Try only label columns"
   ]
  },
  {
   "cell_type": "code",
   "execution_count": 200,
   "metadata": {},
   "outputs": [
    {
     "name": "stdout",
     "output_type": "stream",
     "text": [
      "Baseline model score\n",
      "Training model. Hold on a minute to see the validation score\n",
      "lightbgm AUC score: 0.8200825742929723\n",
      "feature_importance: [68 26 24 22 25 18 27]\n"
     ]
    },
    {
     "data": {
      "text/html": [
       "<div>\n",
       "<style scoped>\n",
       "    .dataframe tbody tr th:only-of-type {\n",
       "        vertical-align: middle;\n",
       "    }\n",
       "\n",
       "    .dataframe tbody tr th {\n",
       "        vertical-align: top;\n",
       "    }\n",
       "\n",
       "    .dataframe thead th {\n",
       "        text-align: right;\n",
       "    }\n",
       "</style>\n",
       "<table border=\"1\" class=\"dataframe\">\n",
       "  <thead>\n",
       "    <tr style=\"text-align: right;\">\n",
       "      <th></th>\n",
       "      <th>num_images</th>\n",
       "      <th>age_approx</th>\n",
       "      <th>min_age</th>\n",
       "      <th>max_age</th>\n",
       "      <th>age_span</th>\n",
       "      <th>anatom_site_general_challenge</th>\n",
       "      <th>sex_anatom_site_general_challenge</th>\n",
       "    </tr>\n",
       "  </thead>\n",
       "  <tbody>\n",
       "    <tr>\n",
       "      <th>22826</th>\n",
       "      <td>32</td>\n",
       "      <td>40.0</td>\n",
       "      <td>35.0</td>\n",
       "      <td>40.0</td>\n",
       "      <td>5.0</td>\n",
       "      <td>2</td>\n",
       "      <td>6</td>\n",
       "    </tr>\n",
       "    <tr>\n",
       "      <th>20292</th>\n",
       "      <td>7</td>\n",
       "      <td>60.0</td>\n",
       "      <td>55.0</td>\n",
       "      <td>60.0</td>\n",
       "      <td>5.0</td>\n",
       "      <td>5</td>\n",
       "      <td>9</td>\n",
       "    </tr>\n",
       "    <tr>\n",
       "      <th>29431</th>\n",
       "      <td>40</td>\n",
       "      <td>65.0</td>\n",
       "      <td>65.0</td>\n",
       "      <td>65.0</td>\n",
       "      <td>0.0</td>\n",
       "      <td>6</td>\n",
       "      <td>10</td>\n",
       "    </tr>\n",
       "  </tbody>\n",
       "</table>\n",
       "</div>"
      ],
      "text/plain": [
       "       num_images  age_approx  min_age  max_age  age_span  \\\n",
       "22826          32        40.0     35.0     40.0       5.0   \n",
       "20292           7        60.0     55.0     60.0       5.0   \n",
       "29431          40        65.0     65.0     65.0       0.0   \n",
       "\n",
       "       anatom_site_general_challenge  sex_anatom_site_general_challenge  \n",
       "22826                              2                                  6  \n",
       "20292                              5                                  9  \n",
       "29431                              6                                 10  "
      ]
     },
     "execution_count": 200,
     "metadata": {},
     "output_type": "execute_result"
    },
    {
     "data": {
      "image/png": "[encoded data removed]",
      "text/plain": [
       "<Figure size 432x288 with 1 Axes>"
      ]
     },
     "metadata": {},
     "output_type": "display_data"
    }
   ],
   "source": [
    "print(\"Baseline model score\")\n",
    "feature_cols = baseline_train.columns.drop('sex')\n",
    "bst, _ = train_lbgm(baseline_train, baseline_valid, y_train\n",
    "                     , y_valid, feature_cols=feature_cols, plott=True)\n",
    "print(\"feature_importance:\",bst.feature_importance())\n",
    "baseline_train[feature_cols].head(3)"
   ]
  },
  {
   "cell_type": "code",
   "execution_count": 218,
   "metadata": {},
   "outputs": [
    {
     "name": "stdout",
     "output_type": "stream",
     "text": [
      "Training model. Hold on a minute to see the validation score\n",
      "lightbgm AUC score: 0.8200825742929723\n",
      "feature_importance: [68 26 24 22 25  4 18 23]\n"
     ]
    },
    {
     "data": {
      "text/html": [
       "<div>\n",
       "<style scoped>\n",
       "    .dataframe tbody tr th:only-of-type {\n",
       "        vertical-align: middle;\n",
       "    }\n",
       "\n",
       "    .dataframe tbody tr th {\n",
       "        vertical-align: top;\n",
       "    }\n",
       "\n",
       "    .dataframe thead th {\n",
       "        text-align: right;\n",
       "    }\n",
       "</style>\n",
       "<table border=\"1\" class=\"dataframe\">\n",
       "  <thead>\n",
       "    <tr style=\"text-align: right;\">\n",
       "      <th></th>\n",
       "      <th>num_images</th>\n",
       "      <th>age_approx</th>\n",
       "      <th>min_age</th>\n",
       "      <th>max_age</th>\n",
       "      <th>age_span</th>\n",
       "      <th>sex</th>\n",
       "      <th>anatom_site_general_challenge</th>\n",
       "      <th>sex_anatom_site_general_challenge</th>\n",
       "    </tr>\n",
       "  </thead>\n",
       "  <tbody>\n",
       "    <tr>\n",
       "      <th>22826</th>\n",
       "      <td>32</td>\n",
       "      <td>40.0</td>\n",
       "      <td>35.0</td>\n",
       "      <td>40.0</td>\n",
       "      <td>5.0</td>\n",
       "      <td>1</td>\n",
       "      <td>2</td>\n",
       "      <td>6</td>\n",
       "    </tr>\n",
       "  </tbody>\n",
       "</table>\n",
       "</div>"
      ],
      "text/plain": [
       "       num_images  age_approx  min_age  max_age  age_span  sex  \\\n",
       "22826          32        40.0     35.0     40.0       5.0    1   \n",
       "\n",
       "       anatom_site_general_challenge  sex_anatom_site_general_challenge  \n",
       "22826                              2                                  6  "
      ]
     },
     "execution_count": 218,
     "metadata": {},
     "output_type": "execute_result"
    }
   ],
   "source": [
    "feature_cols = [\n",
    "   'num_images',\n",
    "  'age_approx',\n",
    "   'min_age',\n",
    "  'max_age',\n",
    "    'age_span',\n",
    "    'sex',\n",
    "   'anatom_site_general_challenge',\n",
    "  'sex_anatom_site_general_challenge'\n",
    "]\n",
    "bst, _ = train_lbgm(baseline_train, baseline_valid, y_train, y_valid, feature_cols=feature_cols)\n",
    "print(\"feature_importance:\",bst.feature_importance())\n",
    "baseline_train[feature_cols].head(1)"
   ]
  },
  {
   "cell_type": "code",
   "execution_count": 211,
   "metadata": {},
   "outputs": [
    {
     "name": "stdout",
     "output_type": "stream",
     "text": [
      "Training model. Hold on a minute to see the validation score\n",
      "lightbgm AUC score: 0.8200825742929723\n",
      "feature_importance: [68 26 24 22 25  4 18 23]\n"
     ]
    },
    {
     "data": {
      "text/html": [
       "<div>\n",
       "<style scoped>\n",
       "    .dataframe tbody tr th:only-of-type {\n",
       "        vertical-align: middle;\n",
       "    }\n",
       "\n",
       "    .dataframe tbody tr th {\n",
       "        vertical-align: top;\n",
       "    }\n",
       "\n",
       "    .dataframe thead th {\n",
       "        text-align: right;\n",
       "    }\n",
       "</style>\n",
       "<table border=\"1\" class=\"dataframe\">\n",
       "  <thead>\n",
       "    <tr style=\"text-align: right;\">\n",
       "      <th></th>\n",
       "      <th>num_images</th>\n",
       "      <th>age_approx</th>\n",
       "      <th>min_age</th>\n",
       "      <th>max_age</th>\n",
       "      <th>age_span</th>\n",
       "      <th>sex</th>\n",
       "      <th>anatom_site_general_challenge</th>\n",
       "      <th>sex_anatom_site_general_challenge</th>\n",
       "    </tr>\n",
       "  </thead>\n",
       "  <tbody>\n",
       "    <tr>\n",
       "      <th>22826</th>\n",
       "      <td>32</td>\n",
       "      <td>40.0</td>\n",
       "      <td>35.0</td>\n",
       "      <td>40.0</td>\n",
       "      <td>5.0</td>\n",
       "      <td>1</td>\n",
       "      <td>2</td>\n",
       "      <td>6</td>\n",
       "    </tr>\n",
       "    <tr>\n",
       "      <th>20292</th>\n",
       "      <td>7</td>\n",
       "      <td>60.0</td>\n",
       "      <td>55.0</td>\n",
       "      <td>60.0</td>\n",
       "      <td>5.0</td>\n",
       "      <td>1</td>\n",
       "      <td>5</td>\n",
       "      <td>9</td>\n",
       "    </tr>\n",
       "    <tr>\n",
       "      <th>29431</th>\n",
       "      <td>40</td>\n",
       "      <td>65.0</td>\n",
       "      <td>65.0</td>\n",
       "      <td>65.0</td>\n",
       "      <td>0.0</td>\n",
       "      <td>1</td>\n",
       "      <td>6</td>\n",
       "      <td>10</td>\n",
       "    </tr>\n",
       "  </tbody>\n",
       "</table>\n",
       "</div>"
      ],
      "text/plain": [
       "       num_images  age_approx  min_age  max_age  age_span  sex  \\\n",
       "22826          32        40.0     35.0     40.0       5.0    1   \n",
       "20292           7        60.0     55.0     60.0       5.0    1   \n",
       "29431          40        65.0     65.0     65.0       0.0    1   \n",
       "\n",
       "       anatom_site_general_challenge  sex_anatom_site_general_challenge  \n",
       "22826                              2                                  6  \n",
       "20292                              5                                  9  \n",
       "29431                              6                                 10  "
      ]
     },
     "execution_count": 211,
     "metadata": {},
     "output_type": "execute_result"
    }
   ],
   "source": [
    "feature_cols = baseline_train.columns.to_list()\n",
    "bst, _ = train_lbgm(baseline_train, baseline_valid, y_train, y_valid, feature_cols=feature_cols)\n",
    "print(\"feature_importance:\",bst.feature_importance())\n",
    "baseline_train[feature_cols].head(3)"
   ]
  },
  {
   "cell_type": "markdown",
   "metadata": {},
   "source": [
    "## Univariate Feature Selection\n",
    "\n",
    "The simplest and fastest methods are based on univariate statistical tests. Scikit-learn's feature selection module, `feature_selection.SelectKBest` returns the K best features given some scoring function. For our classification problem, the module provides three different scoring functions: $\\chi^2$, ANOVA F-value, and the mutual information score. The F-value measures the linear dependency between the feature variable and the target (might underestimate if nonlinear). The mutual information score is nonparametric and so can capture nonlinear relationships. Using `.fit_transform(features, target)` we get back an array with only the selected features."
   ]
  },
  {
   "cell_type": "code",
   "execution_count": 205,
   "metadata": {},
   "outputs": [
    {
     "data": {
      "text/plain": [
       "['num_images', 'age_approx', 'min_age', 'max_age', 'sex']"
      ]
     },
     "execution_count": 205,
     "metadata": {},
     "output_type": "execute_result"
    }
   ],
   "source": [
    "from sklearn.feature_selection import SelectKBest, f_classif, mutual_info_classif\n",
    "\n",
    "# Keep 5 features\n",
    "selector = SelectKBest(mutual_info_classif, k=5)\n",
    "#Use only train set to avoid leakage\n",
    "X_new = selector.fit_transform(baseline_train, y_train)\n",
    "selected_features = pd.DataFrame(selector.inverse_transform(X_new),  columns=baseline_train.columns).head()\n",
    "selected_features = selected_features.columns[selected_features.var() != 0].to_list()\n",
    "#baseline_train[selected_features].head(2)\n",
    "selected_features"
   ]
  },
  {
   "cell_type": "code",
   "execution_count": 207,
   "metadata": {},
   "outputs": [
    {
     "name": "stdout",
     "output_type": "stream",
     "text": [
      "Training model. Hold on a minute to see the validation score\n",
      "lightbgm AUC score: 0.8029859246603206\n",
      "feature_importance: [100  49  46  56  19]\n"
     ]
    },
    {
     "data": {
      "text/html": [
       "<div>\n",
       "<style scoped>\n",
       "    .dataframe tbody tr th:only-of-type {\n",
       "        vertical-align: middle;\n",
       "    }\n",
       "\n",
       "    .dataframe tbody tr th {\n",
       "        vertical-align: top;\n",
       "    }\n",
       "\n",
       "    .dataframe thead th {\n",
       "        text-align: right;\n",
       "    }\n",
       "</style>\n",
       "<table border=\"1\" class=\"dataframe\">\n",
       "  <thead>\n",
       "    <tr style=\"text-align: right;\">\n",
       "      <th></th>\n",
       "      <th>num_images</th>\n",
       "      <th>age_approx</th>\n",
       "      <th>min_age</th>\n",
       "      <th>max_age</th>\n",
       "      <th>sex</th>\n",
       "    </tr>\n",
       "  </thead>\n",
       "  <tbody>\n",
       "    <tr>\n",
       "      <th>22826</th>\n",
       "      <td>32</td>\n",
       "      <td>40.0</td>\n",
       "      <td>35.0</td>\n",
       "      <td>40.0</td>\n",
       "      <td>1</td>\n",
       "    </tr>\n",
       "    <tr>\n",
       "      <th>20292</th>\n",
       "      <td>7</td>\n",
       "      <td>60.0</td>\n",
       "      <td>55.0</td>\n",
       "      <td>60.0</td>\n",
       "      <td>1</td>\n",
       "    </tr>\n",
       "    <tr>\n",
       "      <th>29431</th>\n",
       "      <td>40</td>\n",
       "      <td>65.0</td>\n",
       "      <td>65.0</td>\n",
       "      <td>65.0</td>\n",
       "      <td>1</td>\n",
       "    </tr>\n",
       "  </tbody>\n",
       "</table>\n",
       "</div>"
      ],
      "text/plain": [
       "       num_images  age_approx  min_age  max_age  sex\n",
       "22826          32        40.0     35.0     40.0    1\n",
       "20292           7        60.0     55.0     60.0    1\n",
       "29431          40        65.0     65.0     65.0    1"
      ]
     },
     "execution_count": 207,
     "metadata": {},
     "output_type": "execute_result"
    }
   ],
   "source": [
    "feature_cols = selected_features\n",
    "bst, _ = train_lbgm(baseline_train, baseline_valid, y_train, y_valid, feature_cols=feature_cols)\n",
    "print(\"feature_importance:\",bst.feature_importance())\n",
    "baseline_train[feature_cols].head(3)"
   ]
  },
  {
   "cell_type": "markdown",
   "metadata": {},
   "source": [
    "## Try other models"
   ]
  },
  {
   "cell_type": "code",
   "execution_count": null,
   "metadata": {},
   "outputs": [],
   "source": [
    "# Predict probability target\n",
    "y_pred_p = clf.predict_proba(baseline_valid[selected_features])"
   ]
  },
  {
   "cell_type": "markdown",
   "metadata": {},
   "source": [
    "## Summary \n",
    "\n",
    "1. Too much data, what to do ?? Cloud, Kaggle. Encode images in cloud like env and then use encodings locally. Ignore images for the mean time and include them later on. \n",
    "2. Binary classifier\n",
    "3. `image_name, patient_id, sex, age_approx, anatom_site_general_challenge, diagnosis, benign_malignant, target` Categorical variables ?? \n",
    "4. PCA o tSNE \n",
    "4. Ideas: Use ResNet to encode images, other options Inception, VGG, CV2 ?? Which??\n",
    "5. Note that test set DO NOT HAVE: `diagnosis, benign_malignant, target`  and the task is to predict ` target`\n",
    "6. Is there any other relevant information in the DICOM or tfrecords available in the data set. \n",
    "7. What should we use for a cost function\n",
    "8. Review Notebooks on Kaggle, see below.  \n",
    "9. How to work with unbalance datasets, \n",
    "10. Benchamark XGBoost... \n",
    "\n",
    "\n",
    "Reference \n",
    "* [Kaggel notebook](https://www.kaggle.com/allunia/don-t-turn-into-a-smoothie-after-the-shake-up)\n",
    "\n",
    "## Strategy\n",
    "\n",
    "1. Run model with only the metadata, XGBoost, logistic regresion(benchmark), categorical variables\n",
    "2. f1 score, note that \n",
    "3. Feature importance -- XGBoost, shapely values\n",
    "66. Encoding de las imagenes --  mole size ?????  \n",
    "3. Preprocessing (mole shape) CV2 (\"normalise\"), \n",
    "4. Mid July EDA \n",
    "5. Agosto Run-Run-Run\n",
    "\n",
    "## Ideas con Carlos\n",
    "1. Usar features de smoothie -- Numero de imagenes por paciente, sacar mas features, benign/malign(no esta train set), \n",
    "2. Mirar imagenes: Data augmentation (positives), contornos, y color --- standarizar.\n",
    "3. StratifiesKFold para solucionar low positive stats\n",
    "4. See categorical variables, oridinal or not. "
   ]
  },
  {
   "cell_type": "markdown",
   "metadata": {},
   "source": [
    "# Dependencies"
   ]
  },
  {
   "cell_type": "code",
   "execution_count": 3,
   "metadata": {
    "collapsed": true
   },
   "outputs": [
    {
     "name": "stdout",
     "output_type": "stream",
     "text": [
      "Collecting seaborn\n",
      "  Downloading seaborn-0.10.1-py3-none-any.whl (215 kB)\n",
      "\u001b[K     |████████████████████████████████| 215 kB 374 kB/s eta 0:00:01\n",
      "\u001b[?25hRequirement already satisfied: pandas>=0.22.0 in /Users/felipevallejomonsalve/opt/anaconda3/envs/dataScience/lib/python3.7/site-packages (from seaborn) (0.25.3)\n",
      "Requirement already satisfied: scipy>=1.0.1 in /Users/felipevallejomonsalve/opt/anaconda3/envs/dataScience/lib/python3.7/site-packages (from seaborn) (1.4.1)\n",
      "Requirement already satisfied: matplotlib>=2.1.2 in /Users/felipevallejomonsalve/opt/anaconda3/envs/dataScience/lib/python3.7/site-packages (from seaborn) (3.1.2)\n",
      "Requirement already satisfied: numpy>=1.13.3 in /Users/felipevallejomonsalve/opt/anaconda3/envs/dataScience/lib/python3.7/site-packages (from seaborn) (1.18.1)\n",
      "Requirement already satisfied: python-dateutil>=2.6.1 in /Users/felipevallejomonsalve/opt/anaconda3/envs/dataScience/lib/python3.7/site-packages (from pandas>=0.22.0->seaborn) (2.8.1)\n",
      "Requirement already satisfied: pytz>=2017.2 in /Users/felipevallejomonsalve/opt/anaconda3/envs/dataScience/lib/python3.7/site-packages (from pandas>=0.22.0->seaborn) (2019.3)\n",
      "Requirement already satisfied: cycler>=0.10 in /Users/felipevallejomonsalve/opt/anaconda3/envs/dataScience/lib/python3.7/site-packages (from matplotlib>=2.1.2->seaborn) (0.10.0)\n",
      "Requirement already satisfied: pyparsing!=2.0.4,!=2.1.2,!=2.1.6,>=2.0.1 in /Users/felipevallejomonsalve/opt/anaconda3/envs/dataScience/lib/python3.7/site-packages (from matplotlib>=2.1.2->seaborn) (2.4.6)\n",
      "Requirement already satisfied: kiwisolver>=1.0.1 in /Users/felipevallejomonsalve/opt/anaconda3/envs/dataScience/lib/python3.7/site-packages (from matplotlib>=2.1.2->seaborn) (1.1.0)\n",
      "Requirement already satisfied: six>=1.5 in /Users/felipevallejomonsalve/opt/anaconda3/envs/dataScience/lib/python3.7/site-packages (from python-dateutil>=2.6.1->pandas>=0.22.0->seaborn) (1.14.0)\n",
      "Requirement already satisfied: setuptools in /Users/felipevallejomonsalve/opt/anaconda3/envs/dataScience/lib/python3.7/site-packages (from kiwisolver>=1.0.1->matplotlib>=2.1.2->seaborn) (45.0.0)\n",
      "Installing collected packages: seaborn\n",
      "Successfully installed seaborn-0.10.1\n"
     ]
    }
   ],
   "source": [
    "!pip install seaborn"
   ]
  }
 ],
 "metadata": {
  "kernelspec": {
   "display_name": "Python 3",
   "language": "python",
   "name": "python3"
  },
  "language_info": {
   "codemirror_mode": {
    "name": "ipython",
    "version": 3
   },
   "file_extension": ".py",
   "mimetype": "text/x-python",
   "name": "python",
   "nbconvert_exporter": "python",
   "pygments_lexer": "ipython3",
   "version": "3.7.6"
  }
 },
 "nbformat": 4,
 "nbformat_minor": 4
}
